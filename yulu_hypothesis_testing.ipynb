{
  "nbformat": 4,
  "nbformat_minor": 0,
  "metadata": {
    "colab": {
      "provenance": [],
      "collapsed_sections": [
        "GrvRSmKR--WV",
        "tIciT2Fv2NFQ",
        "sdFeb6WE3--P",
        "sTVouO8A_q4G",
        "U09xem08dLKV",
        "ofXCekyJbSPU",
        "mG05rm-vdtKU",
        "W6QpFOgKoHAS",
        "JNmKeLjx3OdE",
        "GkUaoUmU36SV",
        "R5R3jYav54Ln"
      ],
      "authorship_tag": "ABX9TyPJDiACt6xUUvKg1jAAXiqA",
      "include_colab_link": true
    },
    "kernelspec": {
      "name": "python3",
      "display_name": "Python 3"
    },
    "language_info": {
      "name": "python"
    }
  },
  "cells": [
    {
      "cell_type": "markdown",
      "metadata": {
        "id": "view-in-github",
        "colab_type": "text"
      },
      "source": [
        "<a href=\"https://colab.research.google.com/github/vikashbabukk/Yulu-case-study-Hypothesis-Testing/blob/main/yulu_hypothesis_testing.ipynb\" target=\"_parent\"><img src=\"https://colab.research.google.com/assets/colab-badge.svg\" alt=\"Open In Colab\"/></a>"
      ]
    },
    {
      "cell_type": "markdown",
      "source": [
        "# Intro\n",
        "Yulu is India’s leading micro-mobility service provider, which offers unique vehicles for the daily commute. Starting off as a mission to eliminate traffic congestion in India, Yulu provides the safest commute solution through a user-friendly mobile app to enable shared, solo and sustainable commuting.\n",
        "\n",
        "\n",
        "Yulu wants to understand:\n",
        "\n",
        "Which variables are significant in predicting the demand for shared electric cycles in the Indian market?\n",
        "\n",
        "How well those variables describe the electric cycle demands"
      ],
      "metadata": {
        "id": "1lP6ZLtM-K90"
      }
    },
    {
      "cell_type": "markdown",
      "source": [
        "\n",
        "\n",
        "```\n",
        "data\n",
        "\n",
        "datetime: datetime\n",
        "season: season (1: spring, 2: summer, 3: fall, 4: winter)\n",
        "holiday: whether day is a holiday or not\n",
        "workingday: if day is neither weekend nor holiday is 1, otherwise is 0.\n",
        "weather:\n",
        "1: Clear, Few clouds, partly cloudy, partly cloudy\n",
        "2: Mist + Cloudy, Mist + Broken clouds, Mist + Few clouds, Mist\n",
        "3: Light Snow, Light Rain + Thunderstorm + Scattered clouds, Light Rain + Scattered clouds\n",
        "4: Heavy Rain + Ice Pallets + Thunderstorm + Mist, Snow + Fog\n",
        "temp: temperature in Celsius\n",
        "atemp: feeling temperature in Celsius\n",
        "humidity: humidity\n",
        "windspeed: wind speed\n",
        "casual: count of casual users\n",
        "registered: count of registered users\n",
        "count: count of total rental bikes including both casual and registered\n",
        "\n",
        "```\n",
        "\n"
      ],
      "metadata": {
        "id": "NvDB_cn4-qNl"
      }
    },
    {
      "cell_type": "markdown",
      "source": [
        "# Let's load and clean the data"
      ],
      "metadata": {
        "id": "GrvRSmKR--WV"
      }
    },
    {
      "cell_type": "code",
      "execution_count": null,
      "metadata": {
        "id": "Y7_jlVdLyfzm"
      },
      "outputs": [],
      "source": [
        "# Importing required libraries -\n",
        "import pandas as pd\n",
        "import numpy as np\n",
        "import seaborn as sbn\n",
        "import matplotlib.pyplot as plt\n",
        "from scipy import stats\n",
        "from scipy.stats import ttest_ind # T-test for independent samples\n",
        "from scipy.stats import shapiro # Shapiro-Wilk’s test for Normality\n",
        "from scipy.stats import levene # Levene's test for Equality of Variance\n",
        "from scipy.stats import f_oneway # One-way ANOVA\n",
        "from scipy.stats import chi2_contingency # Chi-square test of independence"
      ]
    },
    {
      "cell_type": "code",
      "source": [
        "import warnings\n",
        "warnings.simplefilter('ignore')"
      ],
      "metadata": {
        "id": "H-bHtE-Uyq-H"
      },
      "execution_count": null,
      "outputs": []
    },
    {
      "cell_type": "code",
      "source": [
        "from pydrive.auth import GoogleAuth\n",
        "from pydrive.drive import GoogleDrive\n",
        "from google.colab import auth\n",
        "from oauth2client.client import GoogleCredentials\n",
        "\n",
        "auth.authenticate_user()\n",
        "gauth = GoogleAuth()\n",
        "gauth.credentials = GoogleCredentials.get_application_default()\n",
        "drive = GoogleDrive(gauth)\n",
        "\n",
        "link = 'https://drive.google.com/file/d/1o94fXnmvrx6jRgI6S-SeZ3tfnKjCDY0i/view?usp=sharing'\n",
        "\n",
        "id = link.split(\"/\")[-2]\n",
        "\n",
        "downloaded = drive.CreateFile({'id':id})\n",
        "downloaded.GetContentFile('bike_sharing.csv')"
      ],
      "metadata": {
        "id": "Qa_mRJykytqU"
      },
      "execution_count": null,
      "outputs": []
    },
    {
      "cell_type": "code",
      "source": [
        "# Loading the dataset -\n",
        "df=pd.read_csv('bike_sharing.csv')\n",
        "df.sample(10)"
      ],
      "metadata": {
        "colab": {
          "base_uri": "https://localhost:8080/",
          "height": 359
        },
        "id": "TGAHR4uRzKMy",
        "outputId": "1ded39a3-d3f6-4dd2-e748-a8b066109bbc"
      },
      "execution_count": null,
      "outputs": [
        {
          "output_type": "execute_result",
          "data": {
            "text/plain": [
              "                  datetime  season  holiday  workingday  weather   temp  \\\n",
              "2850   2011-07-07 16:00:00       3        0           1        1  35.26   \n",
              "10030  2012-11-03 07:00:00       4        0           0        2  13.12   \n",
              "2559   2011-06-14 13:00:00       2        0           1        1  26.24   \n",
              "10769  2012-12-15 03:00:00       4        0           0        2   9.84   \n",
              "8866   2012-08-11 19:00:00       3        0           0        2  27.06   \n",
              "2860   2011-07-08 02:00:00       3        0           1        2  28.70   \n",
              "8446   2012-07-13 07:00:00       3        0           1        2  28.70   \n",
              "6448   2012-03-05 22:00:00       1        0           1        1   9.84   \n",
              "908    2011-03-02 07:00:00       1        0           1        1   9.02   \n",
              "7688   2012-05-19 17:00:00       2        0           0        1  30.34   \n",
              "\n",
              "        atemp  humidity  windspeed  casual  registered  count  \n",
              "2850   38.635        39    15.0013      47         218    265  \n",
              "10030  15.150        49    16.9979       1          58     59  \n",
              "2559   31.060        44    15.0013      33         176    209  \n",
              "10769  14.395        81     0.0000       5          18     23  \n",
              "8866   29.545        89     7.0015      97         178    275  \n",
              "2860   33.335        74    11.0014      10          12     22  \n",
              "8446   32.575        54     0.0000      27         353    380  \n",
              "6448   10.605        35    22.0028       2          76     78  \n",
              "908    10.605        64    16.9979       2         108    110  \n",
              "7688   32.575        30     6.0032     279         347    626  "
            ],
            "text/html": [
              "\n",
              "  <div id=\"df-abcbf0db-3b08-4ef1-bd56-9bfab7ee2102\" class=\"colab-df-container\">\n",
              "    <div>\n",
              "<style scoped>\n",
              "    .dataframe tbody tr th:only-of-type {\n",
              "        vertical-align: middle;\n",
              "    }\n",
              "\n",
              "    .dataframe tbody tr th {\n",
              "        vertical-align: top;\n",
              "    }\n",
              "\n",
              "    .dataframe thead th {\n",
              "        text-align: right;\n",
              "    }\n",
              "</style>\n",
              "<table border=\"1\" class=\"dataframe\">\n",
              "  <thead>\n",
              "    <tr style=\"text-align: right;\">\n",
              "      <th></th>\n",
              "      <th>datetime</th>\n",
              "      <th>season</th>\n",
              "      <th>holiday</th>\n",
              "      <th>workingday</th>\n",
              "      <th>weather</th>\n",
              "      <th>temp</th>\n",
              "      <th>atemp</th>\n",
              "      <th>humidity</th>\n",
              "      <th>windspeed</th>\n",
              "      <th>casual</th>\n",
              "      <th>registered</th>\n",
              "      <th>count</th>\n",
              "    </tr>\n",
              "  </thead>\n",
              "  <tbody>\n",
              "    <tr>\n",
              "      <th>2850</th>\n",
              "      <td>2011-07-07 16:00:00</td>\n",
              "      <td>3</td>\n",
              "      <td>0</td>\n",
              "      <td>1</td>\n",
              "      <td>1</td>\n",
              "      <td>35.26</td>\n",
              "      <td>38.635</td>\n",
              "      <td>39</td>\n",
              "      <td>15.0013</td>\n",
              "      <td>47</td>\n",
              "      <td>218</td>\n",
              "      <td>265</td>\n",
              "    </tr>\n",
              "    <tr>\n",
              "      <th>10030</th>\n",
              "      <td>2012-11-03 07:00:00</td>\n",
              "      <td>4</td>\n",
              "      <td>0</td>\n",
              "      <td>0</td>\n",
              "      <td>2</td>\n",
              "      <td>13.12</td>\n",
              "      <td>15.150</td>\n",
              "      <td>49</td>\n",
              "      <td>16.9979</td>\n",
              "      <td>1</td>\n",
              "      <td>58</td>\n",
              "      <td>59</td>\n",
              "    </tr>\n",
              "    <tr>\n",
              "      <th>2559</th>\n",
              "      <td>2011-06-14 13:00:00</td>\n",
              "      <td>2</td>\n",
              "      <td>0</td>\n",
              "      <td>1</td>\n",
              "      <td>1</td>\n",
              "      <td>26.24</td>\n",
              "      <td>31.060</td>\n",
              "      <td>44</td>\n",
              "      <td>15.0013</td>\n",
              "      <td>33</td>\n",
              "      <td>176</td>\n",
              "      <td>209</td>\n",
              "    </tr>\n",
              "    <tr>\n",
              "      <th>10769</th>\n",
              "      <td>2012-12-15 03:00:00</td>\n",
              "      <td>4</td>\n",
              "      <td>0</td>\n",
              "      <td>0</td>\n",
              "      <td>2</td>\n",
              "      <td>9.84</td>\n",
              "      <td>14.395</td>\n",
              "      <td>81</td>\n",
              "      <td>0.0000</td>\n",
              "      <td>5</td>\n",
              "      <td>18</td>\n",
              "      <td>23</td>\n",
              "    </tr>\n",
              "    <tr>\n",
              "      <th>8866</th>\n",
              "      <td>2012-08-11 19:00:00</td>\n",
              "      <td>3</td>\n",
              "      <td>0</td>\n",
              "      <td>0</td>\n",
              "      <td>2</td>\n",
              "      <td>27.06</td>\n",
              "      <td>29.545</td>\n",
              "      <td>89</td>\n",
              "      <td>7.0015</td>\n",
              "      <td>97</td>\n",
              "      <td>178</td>\n",
              "      <td>275</td>\n",
              "    </tr>\n",
              "    <tr>\n",
              "      <th>2860</th>\n",
              "      <td>2011-07-08 02:00:00</td>\n",
              "      <td>3</td>\n",
              "      <td>0</td>\n",
              "      <td>1</td>\n",
              "      <td>2</td>\n",
              "      <td>28.70</td>\n",
              "      <td>33.335</td>\n",
              "      <td>74</td>\n",
              "      <td>11.0014</td>\n",
              "      <td>10</td>\n",
              "      <td>12</td>\n",
              "      <td>22</td>\n",
              "    </tr>\n",
              "    <tr>\n",
              "      <th>8446</th>\n",
              "      <td>2012-07-13 07:00:00</td>\n",
              "      <td>3</td>\n",
              "      <td>0</td>\n",
              "      <td>1</td>\n",
              "      <td>2</td>\n",
              "      <td>28.70</td>\n",
              "      <td>32.575</td>\n",
              "      <td>54</td>\n",
              "      <td>0.0000</td>\n",
              "      <td>27</td>\n",
              "      <td>353</td>\n",
              "      <td>380</td>\n",
              "    </tr>\n",
              "    <tr>\n",
              "      <th>6448</th>\n",
              "      <td>2012-03-05 22:00:00</td>\n",
              "      <td>1</td>\n",
              "      <td>0</td>\n",
              "      <td>1</td>\n",
              "      <td>1</td>\n",
              "      <td>9.84</td>\n",
              "      <td>10.605</td>\n",
              "      <td>35</td>\n",
              "      <td>22.0028</td>\n",
              "      <td>2</td>\n",
              "      <td>76</td>\n",
              "      <td>78</td>\n",
              "    </tr>\n",
              "    <tr>\n",
              "      <th>908</th>\n",
              "      <td>2011-03-02 07:00:00</td>\n",
              "      <td>1</td>\n",
              "      <td>0</td>\n",
              "      <td>1</td>\n",
              "      <td>1</td>\n",
              "      <td>9.02</td>\n",
              "      <td>10.605</td>\n",
              "      <td>64</td>\n",
              "      <td>16.9979</td>\n",
              "      <td>2</td>\n",
              "      <td>108</td>\n",
              "      <td>110</td>\n",
              "    </tr>\n",
              "    <tr>\n",
              "      <th>7688</th>\n",
              "      <td>2012-05-19 17:00:00</td>\n",
              "      <td>2</td>\n",
              "      <td>0</td>\n",
              "      <td>0</td>\n",
              "      <td>1</td>\n",
              "      <td>30.34</td>\n",
              "      <td>32.575</td>\n",
              "      <td>30</td>\n",
              "      <td>6.0032</td>\n",
              "      <td>279</td>\n",
              "      <td>347</td>\n",
              "      <td>626</td>\n",
              "    </tr>\n",
              "  </tbody>\n",
              "</table>\n",
              "</div>\n",
              "    <div class=\"colab-df-buttons\">\n",
              "\n",
              "  <div class=\"colab-df-container\">\n",
              "    <button class=\"colab-df-convert\" onclick=\"convertToInteractive('df-abcbf0db-3b08-4ef1-bd56-9bfab7ee2102')\"\n",
              "            title=\"Convert this dataframe to an interactive table.\"\n",
              "            style=\"display:none;\">\n",
              "\n",
              "  <svg xmlns=\"http://www.w3.org/2000/svg\" height=\"24px\" viewBox=\"0 -960 960 960\">\n",
              "    <path d=\"M120-120v-720h720v720H120Zm60-500h600v-160H180v160Zm220 220h160v-160H400v160Zm0 220h160v-160H400v160ZM180-400h160v-160H180v160Zm440 0h160v-160H620v160ZM180-180h160v-160H180v160Zm440 0h160v-160H620v160Z\"/>\n",
              "  </svg>\n",
              "    </button>\n",
              "\n",
              "  <style>\n",
              "    .colab-df-container {\n",
              "      display:flex;\n",
              "      gap: 12px;\n",
              "    }\n",
              "\n",
              "    .colab-df-convert {\n",
              "      background-color: #E8F0FE;\n",
              "      border: none;\n",
              "      border-radius: 50%;\n",
              "      cursor: pointer;\n",
              "      display: none;\n",
              "      fill: #1967D2;\n",
              "      height: 32px;\n",
              "      padding: 0 0 0 0;\n",
              "      width: 32px;\n",
              "    }\n",
              "\n",
              "    .colab-df-convert:hover {\n",
              "      background-color: #E2EBFA;\n",
              "      box-shadow: 0px 1px 2px rgba(60, 64, 67, 0.3), 0px 1px 3px 1px rgba(60, 64, 67, 0.15);\n",
              "      fill: #174EA6;\n",
              "    }\n",
              "\n",
              "    .colab-df-buttons div {\n",
              "      margin-bottom: 4px;\n",
              "    }\n",
              "\n",
              "    [theme=dark] .colab-df-convert {\n",
              "      background-color: #3B4455;\n",
              "      fill: #D2E3FC;\n",
              "    }\n",
              "\n",
              "    [theme=dark] .colab-df-convert:hover {\n",
              "      background-color: #434B5C;\n",
              "      box-shadow: 0px 1px 3px 1px rgba(0, 0, 0, 0.15);\n",
              "      filter: drop-shadow(0px 1px 2px rgba(0, 0, 0, 0.3));\n",
              "      fill: #FFFFFF;\n",
              "    }\n",
              "  </style>\n",
              "\n",
              "    <script>\n",
              "      const buttonEl =\n",
              "        document.querySelector('#df-abcbf0db-3b08-4ef1-bd56-9bfab7ee2102 button.colab-df-convert');\n",
              "      buttonEl.style.display =\n",
              "        google.colab.kernel.accessAllowed ? 'block' : 'none';\n",
              "\n",
              "      async function convertToInteractive(key) {\n",
              "        const element = document.querySelector('#df-abcbf0db-3b08-4ef1-bd56-9bfab7ee2102');\n",
              "        const dataTable =\n",
              "          await google.colab.kernel.invokeFunction('convertToInteractive',\n",
              "                                                    [key], {});\n",
              "        if (!dataTable) return;\n",
              "\n",
              "        const docLinkHtml = 'Like what you see? Visit the ' +\n",
              "          '<a target=\"_blank\" href=https://colab.research.google.com/notebooks/data_table.ipynb>data table notebook</a>'\n",
              "          + ' to learn more about interactive tables.';\n",
              "        element.innerHTML = '';\n",
              "        dataTable['output_type'] = 'display_data';\n",
              "        await google.colab.output.renderOutput(dataTable, element);\n",
              "        const docLink = document.createElement('div');\n",
              "        docLink.innerHTML = docLinkHtml;\n",
              "        element.appendChild(docLink);\n",
              "      }\n",
              "    </script>\n",
              "  </div>\n",
              "\n",
              "\n",
              "<div id=\"df-19791c74-af09-4af7-b4a5-f0b6d31c6226\">\n",
              "  <button class=\"colab-df-quickchart\" onclick=\"quickchart('df-19791c74-af09-4af7-b4a5-f0b6d31c6226')\"\n",
              "            title=\"Suggest charts\"\n",
              "            style=\"display:none;\">\n",
              "\n",
              "<svg xmlns=\"http://www.w3.org/2000/svg\" height=\"24px\"viewBox=\"0 0 24 24\"\n",
              "     width=\"24px\">\n",
              "    <g>\n",
              "        <path d=\"M19 3H5c-1.1 0-2 .9-2 2v14c0 1.1.9 2 2 2h14c1.1 0 2-.9 2-2V5c0-1.1-.9-2-2-2zM9 17H7v-7h2v7zm4 0h-2V7h2v10zm4 0h-2v-4h2v4z\"/>\n",
              "    </g>\n",
              "</svg>\n",
              "  </button>\n",
              "\n",
              "<style>\n",
              "  .colab-df-quickchart {\n",
              "      --bg-color: #E8F0FE;\n",
              "      --fill-color: #1967D2;\n",
              "      --hover-bg-color: #E2EBFA;\n",
              "      --hover-fill-color: #174EA6;\n",
              "      --disabled-fill-color: #AAA;\n",
              "      --disabled-bg-color: #DDD;\n",
              "  }\n",
              "\n",
              "  [theme=dark] .colab-df-quickchart {\n",
              "      --bg-color: #3B4455;\n",
              "      --fill-color: #D2E3FC;\n",
              "      --hover-bg-color: #434B5C;\n",
              "      --hover-fill-color: #FFFFFF;\n",
              "      --disabled-bg-color: #3B4455;\n",
              "      --disabled-fill-color: #666;\n",
              "  }\n",
              "\n",
              "  .colab-df-quickchart {\n",
              "    background-color: var(--bg-color);\n",
              "    border: none;\n",
              "    border-radius: 50%;\n",
              "    cursor: pointer;\n",
              "    display: none;\n",
              "    fill: var(--fill-color);\n",
              "    height: 32px;\n",
              "    padding: 0;\n",
              "    width: 32px;\n",
              "  }\n",
              "\n",
              "  .colab-df-quickchart:hover {\n",
              "    background-color: var(--hover-bg-color);\n",
              "    box-shadow: 0 1px 2px rgba(60, 64, 67, 0.3), 0 1px 3px 1px rgba(60, 64, 67, 0.15);\n",
              "    fill: var(--button-hover-fill-color);\n",
              "  }\n",
              "\n",
              "  .colab-df-quickchart-complete:disabled,\n",
              "  .colab-df-quickchart-complete:disabled:hover {\n",
              "    background-color: var(--disabled-bg-color);\n",
              "    fill: var(--disabled-fill-color);\n",
              "    box-shadow: none;\n",
              "  }\n",
              "\n",
              "  .colab-df-spinner {\n",
              "    border: 2px solid var(--fill-color);\n",
              "    border-color: transparent;\n",
              "    border-bottom-color: var(--fill-color);\n",
              "    animation:\n",
              "      spin 1s steps(1) infinite;\n",
              "  }\n",
              "\n",
              "  @keyframes spin {\n",
              "    0% {\n",
              "      border-color: transparent;\n",
              "      border-bottom-color: var(--fill-color);\n",
              "      border-left-color: var(--fill-color);\n",
              "    }\n",
              "    20% {\n",
              "      border-color: transparent;\n",
              "      border-left-color: var(--fill-color);\n",
              "      border-top-color: var(--fill-color);\n",
              "    }\n",
              "    30% {\n",
              "      border-color: transparent;\n",
              "      border-left-color: var(--fill-color);\n",
              "      border-top-color: var(--fill-color);\n",
              "      border-right-color: var(--fill-color);\n",
              "    }\n",
              "    40% {\n",
              "      border-color: transparent;\n",
              "      border-right-color: var(--fill-color);\n",
              "      border-top-color: var(--fill-color);\n",
              "    }\n",
              "    60% {\n",
              "      border-color: transparent;\n",
              "      border-right-color: var(--fill-color);\n",
              "    }\n",
              "    80% {\n",
              "      border-color: transparent;\n",
              "      border-right-color: var(--fill-color);\n",
              "      border-bottom-color: var(--fill-color);\n",
              "    }\n",
              "    90% {\n",
              "      border-color: transparent;\n",
              "      border-bottom-color: var(--fill-color);\n",
              "    }\n",
              "  }\n",
              "</style>\n",
              "\n",
              "  <script>\n",
              "    async function quickchart(key) {\n",
              "      const quickchartButtonEl =\n",
              "        document.querySelector('#' + key + ' button');\n",
              "      quickchartButtonEl.disabled = true;  // To prevent multiple clicks.\n",
              "      quickchartButtonEl.classList.add('colab-df-spinner');\n",
              "      try {\n",
              "        const charts = await google.colab.kernel.invokeFunction(\n",
              "            'suggestCharts', [key], {});\n",
              "      } catch (error) {\n",
              "        console.error('Error during call to suggestCharts:', error);\n",
              "      }\n",
              "      quickchartButtonEl.classList.remove('colab-df-spinner');\n",
              "      quickchartButtonEl.classList.add('colab-df-quickchart-complete');\n",
              "    }\n",
              "    (() => {\n",
              "      let quickchartButtonEl =\n",
              "        document.querySelector('#df-19791c74-af09-4af7-b4a5-f0b6d31c6226 button');\n",
              "      quickchartButtonEl.style.display =\n",
              "        google.colab.kernel.accessAllowed ? 'block' : 'none';\n",
              "    })();\n",
              "  </script>\n",
              "</div>\n",
              "    </div>\n",
              "  </div>\n"
            ]
          },
          "metadata": {},
          "execution_count": 6
        }
      ]
    },
    {
      "cell_type": "code",
      "source": [
        "# Shape of the dataset -\n",
        "print(\"No. of rows : \", df.shape[0])"
      ],
      "metadata": {
        "colab": {
          "base_uri": "https://localhost:8080/"
        },
        "id": "Jq7O_00O0G4X",
        "outputId": "6931359e-6212-45b5-8d85-7df2c3aed6f1"
      },
      "execution_count": null,
      "outputs": [
        {
          "output_type": "stream",
          "name": "stdout",
          "text": [
            "No. of rows :  10886\n"
          ]
        }
      ]
    },
    {
      "cell_type": "code",
      "source": [
        "df.info()"
      ],
      "metadata": {
        "colab": {
          "base_uri": "https://localhost:8080/"
        },
        "id": "Hcfmk5hE0LAF",
        "outputId": "373262da-ff79-4f55-eb6e-49747c9dcddb"
      },
      "execution_count": null,
      "outputs": [
        {
          "output_type": "stream",
          "name": "stdout",
          "text": [
            "<class 'pandas.core.frame.DataFrame'>\n",
            "RangeIndex: 10886 entries, 0 to 10885\n",
            "Data columns (total 12 columns):\n",
            " #   Column      Non-Null Count  Dtype  \n",
            "---  ------      --------------  -----  \n",
            " 0   datetime    10886 non-null  object \n",
            " 1   season      10886 non-null  int64  \n",
            " 2   holiday     10886 non-null  int64  \n",
            " 3   workingday  10886 non-null  int64  \n",
            " 4   weather     10886 non-null  int64  \n",
            " 5   temp        10886 non-null  float64\n",
            " 6   atemp       10886 non-null  float64\n",
            " 7   humidity    10886 non-null  int64  \n",
            " 8   windspeed   10886 non-null  float64\n",
            " 9   casual      10886 non-null  int64  \n",
            " 10  registered  10886 non-null  int64  \n",
            " 11  count       10886 non-null  int64  \n",
            "dtypes: float64(3), int64(8), object(1)\n",
            "memory usage: 1020.7+ KB\n"
          ]
        }
      ]
    },
    {
      "cell_type": "markdown",
      "source": [
        "date time is the only object and others are numerical values"
      ],
      "metadata": {
        "id": "fn6eOENm15oQ"
      }
    },
    {
      "cell_type": "code",
      "source": [
        "# Checking for null values -\n",
        "(df.isna().sum() / len(df)) * 100"
      ],
      "metadata": {
        "colab": {
          "base_uri": "https://localhost:8080/"
        },
        "id": "Yb6C2gJA0LCU",
        "outputId": "27e2557a-d127-4529-c8ef-a69cf6d8b5d6"
      },
      "execution_count": null,
      "outputs": [
        {
          "output_type": "execute_result",
          "data": {
            "text/plain": [
              "datetime      0.0\n",
              "season        0.0\n",
              "holiday       0.0\n",
              "workingday    0.0\n",
              "weather       0.0\n",
              "temp          0.0\n",
              "atemp         0.0\n",
              "humidity      0.0\n",
              "windspeed     0.0\n",
              "casual        0.0\n",
              "registered    0.0\n",
              "count         0.0\n",
              "dtype: float64"
            ]
          },
          "metadata": {},
          "execution_count": 9
        }
      ]
    },
    {
      "cell_type": "markdown",
      "source": [
        "**Great , we dont have any null values in the data set**"
      ],
      "metadata": {
        "id": "fxZNbOPB2GLQ"
      }
    },
    {
      "cell_type": "markdown",
      "source": [
        "# Let's check for unique value and value counts for few important attributes"
      ],
      "metadata": {
        "id": "tIciT2Fv2NFQ"
      }
    },
    {
      "cell_type": "code",
      "source": [
        "# Checking for duplicate rows -\n",
        "dup_rows = df[df.duplicated()]\n",
        "print(\"No. of duplicate rows: \", dup_rows.shape[0])"
      ],
      "metadata": {
        "colab": {
          "base_uri": "https://localhost:8080/"
        },
        "id": "P6iCP7UR0LE5",
        "outputId": "67b99748-493e-4233-da52-5f809f1a8f67"
      },
      "execution_count": null,
      "outputs": [
        {
          "output_type": "stream",
          "name": "stdout",
          "text": [
            "No. of duplicate rows:  0\n"
          ]
        }
      ]
    },
    {
      "cell_type": "code",
      "source": [
        "def dist_check(df, col_name):\n",
        "  print(\"Unique values : \", df[col_name].unique())\n",
        "  print(\"Value counts : \")\n",
        "  print(df[col_name].value_counts())\n",
        "\n",
        "\n",
        "col_list = ['workingday',\t'holiday',\t'weather', 'season']\n",
        "for col in col_list:\n",
        "  print(col, \" -\")\n",
        "  dist_check(df, col)\n",
        "  print(\"\\n\")"
      ],
      "metadata": {
        "colab": {
          "base_uri": "https://localhost:8080/"
        },
        "id": "AXgA1h5n0LHe",
        "outputId": "da92105d-f3a5-46c3-8d9d-2b2bdfb03f01"
      },
      "execution_count": null,
      "outputs": [
        {
          "output_type": "stream",
          "name": "stdout",
          "text": [
            "workingday  -\n",
            "Unique values :  [0 1]\n",
            "Value counts : \n",
            "1    7412\n",
            "0    3474\n",
            "Name: workingday, dtype: int64\n",
            "\n",
            "\n",
            "holiday  -\n",
            "Unique values :  [0 1]\n",
            "Value counts : \n",
            "0    10575\n",
            "1      311\n",
            "Name: holiday, dtype: int64\n",
            "\n",
            "\n",
            "weather  -\n",
            "Unique values :  [1 2 3 4]\n",
            "Value counts : \n",
            "1    7192\n",
            "2    2834\n",
            "3     859\n",
            "4       1\n",
            "Name: weather, dtype: int64\n",
            "\n",
            "\n",
            "season  -\n",
            "Unique values :  [1 2 3 4]\n",
            "Value counts : \n",
            "4    2734\n",
            "2    2733\n",
            "3    2733\n",
            "1    2686\n",
            "Name: season, dtype: int64\n",
            "\n",
            "\n"
          ]
        }
      ]
    },
    {
      "cell_type": "markdown",
      "source": [
        "we can see for wether there is only one data point for 4 ,which is very infrequent so we can remove / avoid it.\n",
        "\n",
        "Other data point looks fine"
      ],
      "metadata": {
        "id": "GR4OuqJ22uzO"
      }
    },
    {
      "cell_type": "markdown",
      "source": [
        "# Let's try to understand the number of bike rides [count] with respect to other features."
      ],
      "metadata": {
        "id": "sdFeb6WE3--P"
      }
    },
    {
      "cell_type": "code",
      "source": [],
      "metadata": {
        "id": "_Z3xLxh8dX6g"
      },
      "execution_count": null,
      "outputs": []
    },
    {
      "cell_type": "code",
      "source": [
        "# Import necessary libraries\n",
        "import matplotlib.pyplot as plt  # Matplotlib for plotting\n",
        "import seaborn as sbn  # Seaborn for statistical data visualization\n",
        "\n",
        "\n",
        "# Select only the specified numerical columns from the DataFrame\n",
        "selected_numerical_columns = ['temp', 'atemp', 'humidity','windspeed','count']\n",
        "\n",
        "numerical_columns = df[selected_numerical_columns]\n",
        "\n",
        "# Correlation Heatmap -\n",
        "# Set the size of the figure (plot)\n",
        "plt.figure(figsize=(12, 7))\n",
        "\n",
        "# Generate a correlation heatmap using Spearman rank correlation coefficients\n",
        "# Correlation measures the strength and direction of a linear relationship between two variables.\n",
        "# Spearman's method is used here, which assesses monotonic (non-linear) relationships.\n",
        "# numerical_columns.corr(method='spearman') calculates the correlation between selected numerical columns using Spearman's method.\n",
        "# annot=True adds numeric annotations to each cell in the heatmap.\n",
        "# cmap='viridis' sets the color map of the heatmap to 'viridis'.\n",
        "sbn.heatmap(numerical_columns.corr(method='spearman'), annot=True, cmap='viridis')\n",
        "\n",
        "# Display the heatmap\n",
        "plt.show()\n"
      ],
      "metadata": {
        "colab": {
          "base_uri": "https://localhost:8080/",
          "height": 605
        },
        "id": "DxCO9S2X0LJz",
        "outputId": "affdb6d9-b3c7-4fd0-b380-0c1b32fc3866"
      },
      "execution_count": null,
      "outputs": [
        {
          "output_type": "display_data",
          "data": {
            "text/plain": [
              "<Figure size 1200x700 with 2 Axes>"
            ],
            "image/png": "[encoded data removed]"
          },
          "metadata": {}
        }
      ]
    },
    {
      "cell_type": "markdown",
      "source": [
        "Correlation measures the strength and direction of a linear relationship between two variables.\n",
        "\n",
        "why spearman correlation?\n",
        "\n",
        "In the context of statistical analysis and correlation measures, a monotonic relationship refers to the consistent (but not necessarily constant) direction of association between two variables. Specifically, in a monotonic relationship, as the value of one variable increases (or decreases), the other variable also consistently increases (or decreases), but not necessarily at a constant rate.\n",
        "\n",
        "A monotonic relationship does not have to be perfectly linear. In a linear relationship, the change in one variable is proportional to the change in the other variable. In contrast, a monotonic relationship only requires a consistent trend in the same direction, but the relationship could be curved or have other shapes.\n",
        "\n",
        "Here are two types of monotonic relationships:\n",
        "\n",
        "Monotonic Increasing: As the values of one variable increase, the values of the other variable also increase. This doesn't mean that the rate of increase is constant, but the general trend is upward.\n",
        "\n",
        "Monotonic Decreasing: As the values of one variable increase, the values of the other variable decrease. Again, the rate of decrease may vary, but the overall trend is downward.\n",
        "\n",
        "Spearman's rank correlation coefficient is a measure that assesses the strength and direction of monotonic relationships between two variables. It does this by ranking the values of each variable and then calculating the correlation based on the ranks. This makes Spearman correlation robust to outliers and suitable for assessing non-linear relationships"
      ],
      "metadata": {
        "id": "zXGvRE-v5WCf"
      }
    },
    {
      "cell_type": "markdown",
      "source": [
        "# Insight\n",
        "*  temp  and atemp i.e feeling temperature are highly corelated with count , which mean people prefer bikes in pleasent temperatures\n",
        "*   there is an negative correlation between count and humidity which mean humidity increases, there tends to be a decrease in the number of bike rides, and vice versa.\n",
        "\n"
      ],
      "metadata": {
        "id": "fDtnPNMY8gJp"
      }
    },
    {
      "cell_type": "markdown",
      "source": [
        "# Outliers detection"
      ],
      "metadata": {
        "id": "sTVouO8A_q4G"
      }
    },
    {
      "cell_type": "code",
      "source": [
        "# Dropping highly correlated columns -\n",
        "dfn = df.drop(columns=['casual', 'registered', 'atemp'])"
      ],
      "metadata": {
        "id": "WHZu0fiX0LPA"
      },
      "execution_count": null,
      "outputs": []
    },
    {
      "cell_type": "code",
      "source": [
        "# Set the style to whitegrid\n",
        "sbn.set(style=\"whitegrid\")\n",
        "\n",
        "# Create a figure with a specified size\n",
        "fig = plt.figure(figsize=(8, 25))\n",
        "\n",
        "# Adjust the layout to leave space on the right for subplots\n",
        "fig.subplots_adjust(right=1.5)\n",
        "\n",
        "# Loop through the columns in col_list and create a box plot for each one\n",
        "for plot in range(1, len(col_list)+1):\n",
        "    # Create subplots in a 5x2 grid\n",
        "    plt.subplot(5, 2, plot)\n",
        "\n",
        "    # Create a box plot for the current column against the 'count' variable\n",
        "    sbn.boxplot(x=dfn[col_list[plot-1]], y=dfn['count'])\n",
        "\n",
        "# Show the plots\n",
        "plt.show()\n"
      ],
      "metadata": {
        "colab": {
          "base_uri": "https://localhost:8080/",
          "height": 818
        },
        "id": "t2zGjtdu0LRm",
        "outputId": "08b483f8-052c-4219-d965-62ede0bca698"
      },
      "execution_count": null,
      "outputs": [
        {
          "output_type": "display_data",
          "data": {
            "text/plain": [
              "<Figure size 800x2500 with 4 Axes>"
            ],
            "image/png": "[encoded data removed]"
          },
          "metadata": {}
        }
      ]
    },
    {
      "cell_type": "markdown",
      "source": [
        "From the above box plots we could see lots of outliers but we can call them as extremevalues till we prove them asn an outlier\n",
        "\n",
        "\n"
      ],
      "metadata": {
        "id": "6vCY30kmuabV"
      }
    },
    {
      "cell_type": "markdown",
      "source": [
        "For Hypotheseis testing we assume the data follows an normal distribution but we could see the data is not normal due to outliers.\n"
      ],
      "metadata": {
        "id": "zqzOS9B8wJZf"
      }
    },
    {
      "cell_type": "markdown",
      "source": [
        "# Lets check the distribution of count"
      ],
      "metadata": {
        "id": "tleI0r6nwwpu"
      }
    },
    {
      "cell_type": "code",
      "source": [
        "# Checking distribution of 'count' column -\n",
        "plt.figure(figsize=(14, 5))\n",
        "\n",
        "#Histogram\n",
        "plt.subplot(1, 2, 1)\n",
        "sbn.distplot(dfn['count'], bins=10)\n",
        "\n",
        "#Boxplot\n",
        "plt.subplot(1, 2, 2)\n",
        "sbn.boxplot(y=dfn['count'])\n",
        "plt.title('Boxplot')\n",
        "\n",
        "plt.show()"
      ],
      "metadata": {
        "colab": {
          "base_uri": "https://localhost:8080/",
          "height": 496
        },
        "id": "K-n-9vYU0LUX",
        "outputId": "94fb85ad-a418-474f-ef24-c9052319a9f7"
      },
      "execution_count": null,
      "outputs": [
        {
          "output_type": "display_data",
          "data": {
            "text/plain": [
              "<Figure size 1400x500 with 2 Axes>"
            ],
            "image/png": "[encoded data removed]"
          },
          "metadata": {}
        }
      ]
    },
    {
      "cell_type": "markdown",
      "source": [
        "We can see that outliers are present in the given columns. We need to figure out a way to deal with them before starting with the tests.\n",
        "\n",
        "\n",
        "We have multiple options available on how to proceed with these outlier values.\n",
        "we can keep them as it is. if these values make any sense according to the business problem.\n",
        "\n",
        "In case these outliers are some invalid values which do not make much sense, we can remove them using the IQR.\n",
        "\n",
        "or\n",
        "\n",
        "we can apply a log transformation on the data to reduce the effect of these outliers."
      ],
      "metadata": {
        "id": "uMJxwDhFC9lG"
      }
    },
    {
      "cell_type": "markdown",
      "source": [
        "The outliers in the given data set are the no. of bike rides per session/day. These values could sometimes be higher than expected due to increase in the crowd on certain days/occasions.\n",
        "\n",
        "These data values are important for capturing variations in the data. Hence, in this case, the ideal approach of dealing with outliers would be to leave them as it is.\n",
        "\n",
        "But since the tests that we are going to apply are based on the assumption that the dataset is normal, we will drop those outlier values using the IQR method"
      ],
      "metadata": {
        "id": "qfAYashCD0rr"
      }
    },
    {
      "cell_type": "code",
      "source": [
        "# Outlier Treatment using IQR (not needed but, we can do it) -\n",
        "\n",
        "q1 = dfn['count'].quantile(0.25)\n",
        "q3 = dfn['count'].quantile(0.75)\n",
        "iqr = q3-q1\n",
        "\n",
        "dfn = dfn[(dfn['count']>(q1-1.5*iqr) ) & (dfn['count']<(q3+1.5*iqr))]\n",
        "\n",
        "print(\"No. of rows : \", dfn.shape[0])"
      ],
      "metadata": {
        "colab": {
          "base_uri": "https://localhost:8080/"
        },
        "id": "QFkU9SWLF9AJ",
        "outputId": "03b327ea-02b9-4e92-a66b-806fcc6a21a9"
      },
      "execution_count": null,
      "outputs": [
        {
          "output_type": "stream",
          "name": "stdout",
          "text": [
            "No. of rows :  10583\n"
          ]
        }
      ]
    },
    {
      "cell_type": "code",
      "source": [
        "# Checking distribution after applying log transformation -\n",
        "plt.figure(figsize=(14, 5))\n",
        "\n",
        "#Histogram\n",
        "plt.subplot(1, 2, 1)\n",
        "sbn.distplot(np.log(dfn['count']), bins=10)\n",
        "\n",
        "#Boxplot\n",
        "plt.subplot(1, 2, 2)\n",
        "sbn.boxplot(y=np.log(dfn['count']))\n",
        "plt.title('Boxplot')\n",
        "\n",
        "plt.show()"
      ],
      "metadata": {
        "colab": {
          "base_uri": "https://localhost:8080/",
          "height": 496
        },
        "id": "zSCgbq0W0LZR",
        "outputId": "c3673f56-23de-46e4-9907-c526ba3df932"
      },
      "execution_count": null,
      "outputs": [
        {
          "output_type": "display_data",
          "data": {
            "text/plain": [
              "<Figure size 1400x500 with 2 Axes>"
            ],
            "image/png": "[encoded data removed]"
          },
          "metadata": {}
        }
      ]
    },
    {
      "cell_type": "markdown",
      "source": [
        "Now the data is near normal and the effects of outliers are reduced"
      ],
      "metadata": {
        "id": "kMfGceCuAU0H"
      }
    },
    {
      "cell_type": "markdown",
      "source": [
        "# Aggregating the total no. of bike rides based on the given factors -\n",
        "\n",
        "---\n",
        "\n"
      ],
      "metadata": {
        "id": "kL3OUc5rPznA"
      }
    },
    {
      "cell_type": "markdown",
      "source": [
        "# Is there any significant difference between the no. of bike rides on working and non-working days?"
      ],
      "metadata": {
        "id": "U09xem08dLKV"
      }
    },
    {
      "cell_type": "code",
      "source": [
        "# 1. Workingday -\n",
        "pd.DataFrame(dfn.groupby('workingday')['count'].describe())"
      ],
      "metadata": {
        "colab": {
          "base_uri": "https://localhost:8080/",
          "height": 142
        },
        "id": "GMCR04f20Leb",
        "outputId": "e9475644-7828-49f0-e4ab-8c099bd70306"
      },
      "execution_count": null,
      "outputs": [
        {
          "output_type": "execute_result",
          "data": {
            "text/plain": [
              "             count        mean         std  min   25%    50%     75%    max\n",
              "workingday                                                                 \n",
              "0           3422.0  180.965517  163.782166  1.0  43.0  124.0  295.75  645.0\n",
              "1           7161.0  173.011591  152.358993  1.0  38.0  143.0  262.00  646.0"
            ],
            "text/html": [
              "\n",
              "  <div id=\"df-dc39d968-0ac5-468a-89c9-a0961c9ddd10\" class=\"colab-df-container\">\n",
              "    <div>\n",
              "<style scoped>\n",
              "    .dataframe tbody tr th:only-of-type {\n",
              "        vertical-align: middle;\n",
              "    }\n",
              "\n",
              "    .dataframe tbody tr th {\n",
              "        vertical-align: top;\n",
              "    }\n",
              "\n",
              "    .dataframe thead th {\n",
              "        text-align: right;\n",
              "    }\n",
              "</style>\n",
              "<table border=\"1\" class=\"dataframe\">\n",
              "  <thead>\n",
              "    <tr style=\"text-align: right;\">\n",
              "      <th></th>\n",
              "      <th>count</th>\n",
              "      <th>mean</th>\n",
              "      <th>std</th>\n",
              "      <th>min</th>\n",
              "      <th>25%</th>\n",
              "      <th>50%</th>\n",
              "      <th>75%</th>\n",
              "      <th>max</th>\n",
              "    </tr>\n",
              "    <tr>\n",
              "      <th>workingday</th>\n",
              "      <th></th>\n",
              "      <th></th>\n",
              "      <th></th>\n",
              "      <th></th>\n",
              "      <th></th>\n",
              "      <th></th>\n",
              "      <th></th>\n",
              "      <th></th>\n",
              "    </tr>\n",
              "  </thead>\n",
              "  <tbody>\n",
              "    <tr>\n",
              "      <th>0</th>\n",
              "      <td>3422.0</td>\n",
              "      <td>180.965517</td>\n",
              "      <td>163.782166</td>\n",
              "      <td>1.0</td>\n",
              "      <td>43.0</td>\n",
              "      <td>124.0</td>\n",
              "      <td>295.75</td>\n",
              "      <td>645.0</td>\n",
              "    </tr>\n",
              "    <tr>\n",
              "      <th>1</th>\n",
              "      <td>7161.0</td>\n",
              "      <td>173.011591</td>\n",
              "      <td>152.358993</td>\n",
              "      <td>1.0</td>\n",
              "      <td>38.0</td>\n",
              "      <td>143.0</td>\n",
              "      <td>262.00</td>\n",
              "      <td>646.0</td>\n",
              "    </tr>\n",
              "  </tbody>\n",
              "</table>\n",
              "</div>\n",
              "    <div class=\"colab-df-buttons\">\n",
              "\n",
              "  <div class=\"colab-df-container\">\n",
              "    <button class=\"colab-df-convert\" onclick=\"convertToInteractive('df-dc39d968-0ac5-468a-89c9-a0961c9ddd10')\"\n",
              "            title=\"Convert this dataframe to an interactive table.\"\n",
              "            style=\"display:none;\">\n",
              "\n",
              "  <svg xmlns=\"http://www.w3.org/2000/svg\" height=\"24px\" viewBox=\"0 -960 960 960\">\n",
              "    <path d=\"M120-120v-720h720v720H120Zm60-500h600v-160H180v160Zm220 220h160v-160H400v160Zm0 220h160v-160H400v160ZM180-400h160v-160H180v160Zm440 0h160v-160H620v160ZM180-180h160v-160H180v160Zm440 0h160v-160H620v160Z\"/>\n",
              "  </svg>\n",
              "    </button>\n",
              "\n",
              "  <style>\n",
              "    .colab-df-container {\n",
              "      display:flex;\n",
              "      gap: 12px;\n",
              "    }\n",
              "\n",
              "    .colab-df-convert {\n",
              "      background-color: #E8F0FE;\n",
              "      border: none;\n",
              "      border-radius: 50%;\n",
              "      cursor: pointer;\n",
              "      display: none;\n",
              "      fill: #1967D2;\n",
              "      height: 32px;\n",
              "      padding: 0 0 0 0;\n",
              "      width: 32px;\n",
              "    }\n",
              "\n",
              "    .colab-df-convert:hover {\n",
              "      background-color: #E2EBFA;\n",
              "      box-shadow: 0px 1px 2px rgba(60, 64, 67, 0.3), 0px 1px 3px 1px rgba(60, 64, 67, 0.15);\n",
              "      fill: #174EA6;\n",
              "    }\n",
              "\n",
              "    .colab-df-buttons div {\n",
              "      margin-bottom: 4px;\n",
              "    }\n",
              "\n",
              "    [theme=dark] .colab-df-convert {\n",
              "      background-color: #3B4455;\n",
              "      fill: #D2E3FC;\n",
              "    }\n",
              "\n",
              "    [theme=dark] .colab-df-convert:hover {\n",
              "      background-color: #434B5C;\n",
              "      box-shadow: 0px 1px 3px 1px rgba(0, 0, 0, 0.15);\n",
              "      filter: drop-shadow(0px 1px 2px rgba(0, 0, 0, 0.3));\n",
              "      fill: #FFFFFF;\n",
              "    }\n",
              "  </style>\n",
              "\n",
              "    <script>\n",
              "      const buttonEl =\n",
              "        document.querySelector('#df-dc39d968-0ac5-468a-89c9-a0961c9ddd10 button.colab-df-convert');\n",
              "      buttonEl.style.display =\n",
              "        google.colab.kernel.accessAllowed ? 'block' : 'none';\n",
              "\n",
              "      async function convertToInteractive(key) {\n",
              "        const element = document.querySelector('#df-dc39d968-0ac5-468a-89c9-a0961c9ddd10');\n",
              "        const dataTable =\n",
              "          await google.colab.kernel.invokeFunction('convertToInteractive',\n",
              "                                                    [key], {});\n",
              "        if (!dataTable) return;\n",
              "\n",
              "        const docLinkHtml = 'Like what you see? Visit the ' +\n",
              "          '<a target=\"_blank\" href=https://colab.research.google.com/notebooks/data_table.ipynb>data table notebook</a>'\n",
              "          + ' to learn more about interactive tables.';\n",
              "        element.innerHTML = '';\n",
              "        dataTable['output_type'] = 'display_data';\n",
              "        await google.colab.output.renderOutput(dataTable, element);\n",
              "        const docLink = document.createElement('div');\n",
              "        docLink.innerHTML = docLinkHtml;\n",
              "        element.appendChild(docLink);\n",
              "      }\n",
              "    </script>\n",
              "  </div>\n",
              "\n",
              "\n",
              "<div id=\"df-528a3517-0c12-43ca-ad69-d01bb3823e9f\">\n",
              "  <button class=\"colab-df-quickchart\" onclick=\"quickchart('df-528a3517-0c12-43ca-ad69-d01bb3823e9f')\"\n",
              "            title=\"Suggest charts\"\n",
              "            style=\"display:none;\">\n",
              "\n",
              "<svg xmlns=\"http://www.w3.org/2000/svg\" height=\"24px\"viewBox=\"0 0 24 24\"\n",
              "     width=\"24px\">\n",
              "    <g>\n",
              "        <path d=\"M19 3H5c-1.1 0-2 .9-2 2v14c0 1.1.9 2 2 2h14c1.1 0 2-.9 2-2V5c0-1.1-.9-2-2-2zM9 17H7v-7h2v7zm4 0h-2V7h2v10zm4 0h-2v-4h2v4z\"/>\n",
              "    </g>\n",
              "</svg>\n",
              "  </button>\n",
              "\n",
              "<style>\n",
              "  .colab-df-quickchart {\n",
              "      --bg-color: #E8F0FE;\n",
              "      --fill-color: #1967D2;\n",
              "      --hover-bg-color: #E2EBFA;\n",
              "      --hover-fill-color: #174EA6;\n",
              "      --disabled-fill-color: #AAA;\n",
              "      --disabled-bg-color: #DDD;\n",
              "  }\n",
              "\n",
              "  [theme=dark] .colab-df-quickchart {\n",
              "      --bg-color: #3B4455;\n",
              "      --fill-color: #D2E3FC;\n",
              "      --hover-bg-color: #434B5C;\n",
              "      --hover-fill-color: #FFFFFF;\n",
              "      --disabled-bg-color: #3B4455;\n",
              "      --disabled-fill-color: #666;\n",
              "  }\n",
              "\n",
              "  .colab-df-quickchart {\n",
              "    background-color: var(--bg-color);\n",
              "    border: none;\n",
              "    border-radius: 50%;\n",
              "    cursor: pointer;\n",
              "    display: none;\n",
              "    fill: var(--fill-color);\n",
              "    height: 32px;\n",
              "    padding: 0;\n",
              "    width: 32px;\n",
              "  }\n",
              "\n",
              "  .colab-df-quickchart:hover {\n",
              "    background-color: var(--hover-bg-color);\n",
              "    box-shadow: 0 1px 2px rgba(60, 64, 67, 0.3), 0 1px 3px 1px rgba(60, 64, 67, 0.15);\n",
              "    fill: var(--button-hover-fill-color);\n",
              "  }\n",
              "\n",
              "  .colab-df-quickchart-complete:disabled,\n",
              "  .colab-df-quickchart-complete:disabled:hover {\n",
              "    background-color: var(--disabled-bg-color);\n",
              "    fill: var(--disabled-fill-color);\n",
              "    box-shadow: none;\n",
              "  }\n",
              "\n",
              "  .colab-df-spinner {\n",
              "    border: 2px solid var(--fill-color);\n",
              "    border-color: transparent;\n",
              "    border-bottom-color: var(--fill-color);\n",
              "    animation:\n",
              "      spin 1s steps(1) infinite;\n",
              "  }\n",
              "\n",
              "  @keyframes spin {\n",
              "    0% {\n",
              "      border-color: transparent;\n",
              "      border-bottom-color: var(--fill-color);\n",
              "      border-left-color: var(--fill-color);\n",
              "    }\n",
              "    20% {\n",
              "      border-color: transparent;\n",
              "      border-left-color: var(--fill-color);\n",
              "      border-top-color: var(--fill-color);\n",
              "    }\n",
              "    30% {\n",
              "      border-color: transparent;\n",
              "      border-left-color: var(--fill-color);\n",
              "      border-top-color: var(--fill-color);\n",
              "      border-right-color: var(--fill-color);\n",
              "    }\n",
              "    40% {\n",
              "      border-color: transparent;\n",
              "      border-right-color: var(--fill-color);\n",
              "      border-top-color: var(--fill-color);\n",
              "    }\n",
              "    60% {\n",
              "      border-color: transparent;\n",
              "      border-right-color: var(--fill-color);\n",
              "    }\n",
              "    80% {\n",
              "      border-color: transparent;\n",
              "      border-right-color: var(--fill-color);\n",
              "      border-bottom-color: var(--fill-color);\n",
              "    }\n",
              "    90% {\n",
              "      border-color: transparent;\n",
              "      border-bottom-color: var(--fill-color);\n",
              "    }\n",
              "  }\n",
              "</style>\n",
              "\n",
              "  <script>\n",
              "    async function quickchart(key) {\n",
              "      const quickchartButtonEl =\n",
              "        document.querySelector('#' + key + ' button');\n",
              "      quickchartButtonEl.disabled = true;  // To prevent multiple clicks.\n",
              "      quickchartButtonEl.classList.add('colab-df-spinner');\n",
              "      try {\n",
              "        const charts = await google.colab.kernel.invokeFunction(\n",
              "            'suggestCharts', [key], {});\n",
              "      } catch (error) {\n",
              "        console.error('Error during call to suggestCharts:', error);\n",
              "      }\n",
              "      quickchartButtonEl.classList.remove('colab-df-spinner');\n",
              "      quickchartButtonEl.classList.add('colab-df-quickchart-complete');\n",
              "    }\n",
              "    (() => {\n",
              "      let quickchartButtonEl =\n",
              "        document.querySelector('#df-528a3517-0c12-43ca-ad69-d01bb3823e9f button');\n",
              "      quickchartButtonEl.style.display =\n",
              "        google.colab.kernel.accessAllowed ? 'block' : 'none';\n",
              "    })();\n",
              "  </script>\n",
              "</div>\n",
              "    </div>\n",
              "  </div>\n"
            ]
          },
          "metadata": {},
          "execution_count": 24
        }
      ]
    },
    {
      "cell_type": "markdown",
      "source": [
        "The data suggests that, on average, there is a slightly higher number of bike rentals on working days. However, the variability in counts is higher on working days, possibly indicating more diverse patterns of bike usage."
      ],
      "metadata": {
        "id": "j3qlXP8vQnDI"
      }
    },
    {
      "cell_type": "markdown",
      "source": [
        "Step 1: Define the null and alternate hypothesis"
      ],
      "metadata": {
        "id": "sToJHdxtTnJQ"
      }
    },
    {
      "cell_type": "markdown",
      "source": [
        "\n",
        "\n",
        "```\n",
        "𝐻0: The demand of bikes on weekdays is greater or similar to the demand of bikes on weekend.\n",
        "\n",
        "𝐻𝑎: The demand of bikes on weekdays is less than the demand of bikes on weekend.\n",
        "\n",
        "Let 𝜇1 and 𝜇2 be the average no. of bikes rented on weekdays and weekends respectively.\n",
        "\n",
        "Mathematically, the above formulated hypothesis can be written as:\n",
        "𝐻0:𝜇1>=𝜇2\n",
        "𝐻𝑎:𝜇1<𝜇2\n",
        "\n",
        "```\n",
        "\n"
      ],
      "metadata": {
        "id": "WeiUOnteS2QW"
      }
    },
    {
      "cell_type": "markdown",
      "source": [
        "Step 2: Select an appropriate test"
      ],
      "metadata": {
        "id": "YBgGZ14uUgb-"
      }
    },
    {
      "cell_type": "markdown",
      "source": [
        "\n",
        "\n",
        " What is the difference between a t-test and a z-test?\n",
        "\n",
        "A t-test looks at two sets of data that are different from each other, with no standard deviation or variance.\n",
        "\n",
        "A z-test views the averages of data sets that are different from each other but have the standard deviation or variance given.\n",
        "\n",
        "The t test as compared with z test has its advantage for small sample comparison. As n increases, t approaches to z. The advantage of t test disappears, and t distribution simply becomes z distribution.\n",
        "\n",
        "In other words, with large n, t test is just close to z test and one dosen't lose anything so lets use to use t test.\n"
      ],
      "metadata": {
        "id": "AhEf97PHTpCC"
      }
    },
    {
      "cell_type": "markdown",
      "source": [
        "the standard deviation of the population is not known."
      ],
      "metadata": {
        "id": "3-I8jmzQVH_G"
      }
    },
    {
      "cell_type": "code",
      "source": [
        "weekday = dfn[dfn['workingday'] == 1]['count'].sample(2999)\n",
        "weekend = dfn[dfn['workingday'] == 0]['count'].sample(2999)"
      ],
      "metadata": {
        "id": "e3Qy1vCTVSI2"
      },
      "execution_count": null,
      "outputs": []
    },
    {
      "cell_type": "markdown",
      "source": [
        " Why do we take same noumber of samples from two different populations for conducting the tests?\n",
        "\n",
        "\n",
        "* Unequal sample sizes can lead to unequal variances between samples, which affects the assumption of equal variances in t-tests.\n",
        "\n",
        "* Having both unequal sample sizes and variances dramatically affects the statistical power of a test.\n"
      ],
      "metadata": {
        "id": "LgbsxxLiVO4z"
      }
    },
    {
      "cell_type": "code",
      "source": [
        "print('The sample standard deviation of the bike rides on weekday is:', round(weekday.std(), 2))\n",
        "print('The sample standard deviation of the bike rides on weekend is:', round(weekend.std(), 2))"
      ],
      "metadata": {
        "colab": {
          "base_uri": "https://localhost:8080/"
        },
        "id": "58gnhOvgVo-L",
        "outputId": "8608a7be-d80f-4e84-918c-6e6611264d2d"
      },
      "execution_count": null,
      "outputs": [
        {
          "output_type": "stream",
          "name": "stdout",
          "text": [
            "The sample standard deviation of the bike rides on weekday is: 153.31\n",
            "The sample standard deviation of the bike rides on weekend is: 163.03\n"
          ]
        }
      ]
    },
    {
      "cell_type": "markdown",
      "source": [
        "As the sample standard deviations are different, the population standard deviations can be assumed to be different."
      ],
      "metadata": {
        "id": "WfbUxbKFVk5_"
      }
    },
    {
      "cell_type": "markdown",
      "source": [
        "This is a one-tailed test concerning two population means from two independent populations. As the population standard deviations are unknown, the two sample independent t-test will be the appropriate test for this problem."
      ],
      "metadata": {
        "id": "OUte97sUVz2C"
      }
    },
    {
      "cell_type": "markdown",
      "source": [
        "Step 3: Decide the significance level\n",
        "\n",
        "As given in the problem statement, we select α = 0.05"
      ],
      "metadata": {
        "id": "VmXasZCBV87F"
      }
    },
    {
      "cell_type": "markdown",
      "source": [
        "Step 4: Calculate the p-value"
      ],
      "metadata": {
        "id": "pMh06r_AWTt-"
      }
    },
    {
      "cell_type": "code",
      "source": [
        "alpha = 0.05\n",
        "\n",
        "def result(p_value, alpha):\n",
        "  if p_value < alpha:\n",
        "    print(f'As the p-value {p_value} is less than the level of significance, we reject the null hypothesis.')\n",
        "  else:\n",
        "    print(f'As the p-value {p_value} is greater than the level of significance, we fail to reject the null hypothesis.')\n",
        "\n",
        "\n",
        "test_stat, p_value = ttest_ind(weekday, weekend, equal_var=False, alternative='less')\n",
        "print('The p-value is : ', p_value)\n",
        "\n",
        "result(p_value, alpha)"
      ],
      "metadata": {
        "colab": {
          "base_uri": "https://localhost:8080/"
        },
        "id": "1x96UzsWWSfw",
        "outputId": "3257fc27-b850-4cfc-e145-62f2335cf9ba"
      },
      "execution_count": null,
      "outputs": [
        {
          "output_type": "stream",
          "name": "stdout",
          "text": [
            "The p-value is :  0.3636462064149856\n",
            "As the p-value 0.3636462064149856 is greater than the level of significance, we fail to reject the null hypothesis.\n"
          ]
        }
      ]
    },
    {
      "cell_type": "markdown",
      "source": [
        "**Observation:** Since the p-value is greater than the 5% significance level, we fail to reject the null hypothesis. Hence, we have enough statistical evidence to say that the average no. of bike rides during weekdays is greater than or equal to those on weekends."
      ],
      "metadata": {
        "id": "65tphFG4WxTh"
      }
    },
    {
      "cell_type": "markdown",
      "source": [
        "# Is there any significant difference between the no. of bike rides on regular days and holidays?"
      ],
      "metadata": {
        "id": "ofXCekyJbSPU"
      }
    },
    {
      "cell_type": "code",
      "source": [
        "# 2. Holiday -\n",
        "pd.DataFrame(dfn.groupby('holiday')['count'].describe())"
      ],
      "metadata": {
        "colab": {
          "base_uri": "https://localhost:8080/",
          "height": 142
        },
        "id": "_8UkIv1t0LhB",
        "outputId": "350e51c6-0a20-404a-e6d2-8722d49118c3"
      },
      "execution_count": null,
      "outputs": [
        {
          "output_type": "execute_result",
          "data": {
            "text/plain": [
              "           count        mean         std  min   25%    50%    75%    max\n",
              "holiday                                                                 \n",
              "0        10273.0  175.373893  155.957826  1.0  40.0  138.0  269.0  646.0\n",
              "1          309.0  182.588997  163.766590  1.0  38.0  127.0  304.0  597.0"
            ],
            "text/html": [
              "\n",
              "  <div id=\"df-4c1e636f-5e1a-4f17-a0fe-35a97eec3486\" class=\"colab-df-container\">\n",
              "    <div>\n",
              "<style scoped>\n",
              "    .dataframe tbody tr th:only-of-type {\n",
              "        vertical-align: middle;\n",
              "    }\n",
              "\n",
              "    .dataframe tbody tr th {\n",
              "        vertical-align: top;\n",
              "    }\n",
              "\n",
              "    .dataframe thead th {\n",
              "        text-align: right;\n",
              "    }\n",
              "</style>\n",
              "<table border=\"1\" class=\"dataframe\">\n",
              "  <thead>\n",
              "    <tr style=\"text-align: right;\">\n",
              "      <th></th>\n",
              "      <th>count</th>\n",
              "      <th>mean</th>\n",
              "      <th>std</th>\n",
              "      <th>min</th>\n",
              "      <th>25%</th>\n",
              "      <th>50%</th>\n",
              "      <th>75%</th>\n",
              "      <th>max</th>\n",
              "    </tr>\n",
              "    <tr>\n",
              "      <th>holiday</th>\n",
              "      <th></th>\n",
              "      <th></th>\n",
              "      <th></th>\n",
              "      <th></th>\n",
              "      <th></th>\n",
              "      <th></th>\n",
              "      <th></th>\n",
              "      <th></th>\n",
              "    </tr>\n",
              "  </thead>\n",
              "  <tbody>\n",
              "    <tr>\n",
              "      <th>0</th>\n",
              "      <td>10273.0</td>\n",
              "      <td>175.373893</td>\n",
              "      <td>155.957826</td>\n",
              "      <td>1.0</td>\n",
              "      <td>40.0</td>\n",
              "      <td>138.0</td>\n",
              "      <td>269.0</td>\n",
              "      <td>646.0</td>\n",
              "    </tr>\n",
              "    <tr>\n",
              "      <th>1</th>\n",
              "      <td>309.0</td>\n",
              "      <td>182.588997</td>\n",
              "      <td>163.766590</td>\n",
              "      <td>1.0</td>\n",
              "      <td>38.0</td>\n",
              "      <td>127.0</td>\n",
              "      <td>304.0</td>\n",
              "      <td>597.0</td>\n",
              "    </tr>\n",
              "  </tbody>\n",
              "</table>\n",
              "</div>\n",
              "    <div class=\"colab-df-buttons\">\n",
              "\n",
              "  <div class=\"colab-df-container\">\n",
              "    <button class=\"colab-df-convert\" onclick=\"convertToInteractive('df-4c1e636f-5e1a-4f17-a0fe-35a97eec3486')\"\n",
              "            title=\"Convert this dataframe to an interactive table.\"\n",
              "            style=\"display:none;\">\n",
              "\n",
              "  <svg xmlns=\"http://www.w3.org/2000/svg\" height=\"24px\" viewBox=\"0 -960 960 960\">\n",
              "    <path d=\"M120-120v-720h720v720H120Zm60-500h600v-160H180v160Zm220 220h160v-160H400v160Zm0 220h160v-160H400v160ZM180-400h160v-160H180v160Zm440 0h160v-160H620v160ZM180-180h160v-160H180v160Zm440 0h160v-160H620v160Z\"/>\n",
              "  </svg>\n",
              "    </button>\n",
              "\n",
              "  <style>\n",
              "    .colab-df-container {\n",
              "      display:flex;\n",
              "      gap: 12px;\n",
              "    }\n",
              "\n",
              "    .colab-df-convert {\n",
              "      background-color: #E8F0FE;\n",
              "      border: none;\n",
              "      border-radius: 50%;\n",
              "      cursor: pointer;\n",
              "      display: none;\n",
              "      fill: #1967D2;\n",
              "      height: 32px;\n",
              "      padding: 0 0 0 0;\n",
              "      width: 32px;\n",
              "    }\n",
              "\n",
              "    .colab-df-convert:hover {\n",
              "      background-color: #E2EBFA;\n",
              "      box-shadow: 0px 1px 2px rgba(60, 64, 67, 0.3), 0px 1px 3px 1px rgba(60, 64, 67, 0.15);\n",
              "      fill: #174EA6;\n",
              "    }\n",
              "\n",
              "    .colab-df-buttons div {\n",
              "      margin-bottom: 4px;\n",
              "    }\n",
              "\n",
              "    [theme=dark] .colab-df-convert {\n",
              "      background-color: #3B4455;\n",
              "      fill: #D2E3FC;\n",
              "    }\n",
              "\n",
              "    [theme=dark] .colab-df-convert:hover {\n",
              "      background-color: #434B5C;\n",
              "      box-shadow: 0px 1px 3px 1px rgba(0, 0, 0, 0.15);\n",
              "      filter: drop-shadow(0px 1px 2px rgba(0, 0, 0, 0.3));\n",
              "      fill: #FFFFFF;\n",
              "    }\n",
              "  </style>\n",
              "\n",
              "    <script>\n",
              "      const buttonEl =\n",
              "        document.querySelector('#df-4c1e636f-5e1a-4f17-a0fe-35a97eec3486 button.colab-df-convert');\n",
              "      buttonEl.style.display =\n",
              "        google.colab.kernel.accessAllowed ? 'block' : 'none';\n",
              "\n",
              "      async function convertToInteractive(key) {\n",
              "        const element = document.querySelector('#df-4c1e636f-5e1a-4f17-a0fe-35a97eec3486');\n",
              "        const dataTable =\n",
              "          await google.colab.kernel.invokeFunction('convertToInteractive',\n",
              "                                                    [key], {});\n",
              "        if (!dataTable) return;\n",
              "\n",
              "        const docLinkHtml = 'Like what you see? Visit the ' +\n",
              "          '<a target=\"_blank\" href=https://colab.research.google.com/notebooks/data_table.ipynb>data table notebook</a>'\n",
              "          + ' to learn more about interactive tables.';\n",
              "        element.innerHTML = '';\n",
              "        dataTable['output_type'] = 'display_data';\n",
              "        await google.colab.output.renderOutput(dataTable, element);\n",
              "        const docLink = document.createElement('div');\n",
              "        docLink.innerHTML = docLinkHtml;\n",
              "        element.appendChild(docLink);\n",
              "      }\n",
              "    </script>\n",
              "  </div>\n",
              "\n",
              "\n",
              "<div id=\"df-369c8adb-4c09-4c1b-a53b-af6e28b5c983\">\n",
              "  <button class=\"colab-df-quickchart\" onclick=\"quickchart('df-369c8adb-4c09-4c1b-a53b-af6e28b5c983')\"\n",
              "            title=\"Suggest charts\"\n",
              "            style=\"display:none;\">\n",
              "\n",
              "<svg xmlns=\"http://www.w3.org/2000/svg\" height=\"24px\"viewBox=\"0 0 24 24\"\n",
              "     width=\"24px\">\n",
              "    <g>\n",
              "        <path d=\"M19 3H5c-1.1 0-2 .9-2 2v14c0 1.1.9 2 2 2h14c1.1 0 2-.9 2-2V5c0-1.1-.9-2-2-2zM9 17H7v-7h2v7zm4 0h-2V7h2v10zm4 0h-2v-4h2v4z\"/>\n",
              "    </g>\n",
              "</svg>\n",
              "  </button>\n",
              "\n",
              "<style>\n",
              "  .colab-df-quickchart {\n",
              "      --bg-color: #E8F0FE;\n",
              "      --fill-color: #1967D2;\n",
              "      --hover-bg-color: #E2EBFA;\n",
              "      --hover-fill-color: #174EA6;\n",
              "      --disabled-fill-color: #AAA;\n",
              "      --disabled-bg-color: #DDD;\n",
              "  }\n",
              "\n",
              "  [theme=dark] .colab-df-quickchart {\n",
              "      --bg-color: #3B4455;\n",
              "      --fill-color: #D2E3FC;\n",
              "      --hover-bg-color: #434B5C;\n",
              "      --hover-fill-color: #FFFFFF;\n",
              "      --disabled-bg-color: #3B4455;\n",
              "      --disabled-fill-color: #666;\n",
              "  }\n",
              "\n",
              "  .colab-df-quickchart {\n",
              "    background-color: var(--bg-color);\n",
              "    border: none;\n",
              "    border-radius: 50%;\n",
              "    cursor: pointer;\n",
              "    display: none;\n",
              "    fill: var(--fill-color);\n",
              "    height: 32px;\n",
              "    padding: 0;\n",
              "    width: 32px;\n",
              "  }\n",
              "\n",
              "  .colab-df-quickchart:hover {\n",
              "    background-color: var(--hover-bg-color);\n",
              "    box-shadow: 0 1px 2px rgba(60, 64, 67, 0.3), 0 1px 3px 1px rgba(60, 64, 67, 0.15);\n",
              "    fill: var(--button-hover-fill-color);\n",
              "  }\n",
              "\n",
              "  .colab-df-quickchart-complete:disabled,\n",
              "  .colab-df-quickchart-complete:disabled:hover {\n",
              "    background-color: var(--disabled-bg-color);\n",
              "    fill: var(--disabled-fill-color);\n",
              "    box-shadow: none;\n",
              "  }\n",
              "\n",
              "  .colab-df-spinner {\n",
              "    border: 2px solid var(--fill-color);\n",
              "    border-color: transparent;\n",
              "    border-bottom-color: var(--fill-color);\n",
              "    animation:\n",
              "      spin 1s steps(1) infinite;\n",
              "  }\n",
              "\n",
              "  @keyframes spin {\n",
              "    0% {\n",
              "      border-color: transparent;\n",
              "      border-bottom-color: var(--fill-color);\n",
              "      border-left-color: var(--fill-color);\n",
              "    }\n",
              "    20% {\n",
              "      border-color: transparent;\n",
              "      border-left-color: var(--fill-color);\n",
              "      border-top-color: var(--fill-color);\n",
              "    }\n",
              "    30% {\n",
              "      border-color: transparent;\n",
              "      border-left-color: var(--fill-color);\n",
              "      border-top-color: var(--fill-color);\n",
              "      border-right-color: var(--fill-color);\n",
              "    }\n",
              "    40% {\n",
              "      border-color: transparent;\n",
              "      border-right-color: var(--fill-color);\n",
              "      border-top-color: var(--fill-color);\n",
              "    }\n",
              "    60% {\n",
              "      border-color: transparent;\n",
              "      border-right-color: var(--fill-color);\n",
              "    }\n",
              "    80% {\n",
              "      border-color: transparent;\n",
              "      border-right-color: var(--fill-color);\n",
              "      border-bottom-color: var(--fill-color);\n",
              "    }\n",
              "    90% {\n",
              "      border-color: transparent;\n",
              "      border-bottom-color: var(--fill-color);\n",
              "    }\n",
              "  }\n",
              "</style>\n",
              "\n",
              "  <script>\n",
              "    async function quickchart(key) {\n",
              "      const quickchartButtonEl =\n",
              "        document.querySelector('#' + key + ' button');\n",
              "      quickchartButtonEl.disabled = true;  // To prevent multiple clicks.\n",
              "      quickchartButtonEl.classList.add('colab-df-spinner');\n",
              "      try {\n",
              "        const charts = await google.colab.kernel.invokeFunction(\n",
              "            'suggestCharts', [key], {});\n",
              "      } catch (error) {\n",
              "        console.error('Error during call to suggestCharts:', error);\n",
              "      }\n",
              "      quickchartButtonEl.classList.remove('colab-df-spinner');\n",
              "      quickchartButtonEl.classList.add('colab-df-quickchart-complete');\n",
              "    }\n",
              "    (() => {\n",
              "      let quickchartButtonEl =\n",
              "        document.querySelector('#df-369c8adb-4c09-4c1b-a53b-af6e28b5c983 button');\n",
              "      quickchartButtonEl.style.display =\n",
              "        google.colab.kernel.accessAllowed ? 'block' : 'none';\n",
              "    })();\n",
              "  </script>\n",
              "</div>\n",
              "    </div>\n",
              "  </div>\n"
            ]
          },
          "metadata": {},
          "execution_count": 51
        }
      ]
    },
    {
      "cell_type": "markdown",
      "source": [
        "Step 1: Define the null and alternate hypothesis"
      ],
      "metadata": {
        "id": "s6n4eBgKW9AV"
      }
    },
    {
      "cell_type": "markdown",
      "source": [
        "\n",
        "\n",
        "```\n",
        "𝐻0:  The demand of bikes on regular days is greater or similar to the demand of bikes on holidays.\n",
        "\n",
        "𝐻𝑎:  The demand of bikes on regular days is less than the demand of bikes on holidays.\n",
        "\n",
        "Let  𝜇1  and  𝜇2  be the average no. of bikes rented on regular days and holidays respectively.\n",
        "\n",
        "Mathematically, the above formulated hypothesis can be written as:\n",
        "𝐻0:𝜇1>=𝜇2\n",
        "𝐻𝑎:𝜇1<𝜇2\n",
        "```\n",
        "\n"
      ],
      "metadata": {
        "id": "kh68QKsLW89d"
      }
    },
    {
      "cell_type": "markdown",
      "source": [
        "Step 2: Select an appropriate test"
      ],
      "metadata": {
        "id": "tIfrmXZbW868"
      }
    },
    {
      "cell_type": "markdown",
      "source": [
        "the standard deviation of the population is not known."
      ],
      "metadata": {
        "id": "8PmLT2-kXQ8h"
      }
    },
    {
      "cell_type": "code",
      "source": [
        "holiday = dfn[dfn['holiday'] == 1]['count'].sample(299)\n",
        "regular = dfn[dfn['holiday'] == 0]['count'].sample(299)\n",
        "\n",
        "\n",
        "print('The sample standard deviation of the bike rides on holidays is:', round(holiday.std(), 2))\n",
        "print('The sample standard deviation of the bike rides on regular days is:', round(regular.std(), 2))"
      ],
      "metadata": {
        "colab": {
          "base_uri": "https://localhost:8080/"
        },
        "id": "H6sBOZP5XQpg",
        "outputId": "81036bc0-aae9-4c36-8ac0-afdd5ac88d9c"
      },
      "execution_count": null,
      "outputs": [
        {
          "output_type": "stream",
          "name": "stdout",
          "text": [
            "The sample standard deviation of the bike rides on holidays is: 163.88\n",
            "The sample standard deviation of the bike rides on regular days is: 164.07\n"
          ]
        }
      ]
    },
    {
      "cell_type": "markdown",
      "source": [
        "As the sample standard deviations are different, the population standard deviations can be assumed to be different.\n",
        "\n",
        "\n",
        "This is also a one-tailed test concerning two population means from two independent populations. As the population standard deviations are unknown, the two sample independent t-test will be the appropriate test for this problem."
      ],
      "metadata": {
        "id": "MtmvlOIcXkcN"
      }
    },
    {
      "cell_type": "markdown",
      "source": [
        "Step 3: Decide the significance level\n",
        "\n",
        "The significance level (α) is already set to 5% i.e., 0.05"
      ],
      "metadata": {
        "id": "g_-Csxw9XpgF"
      }
    },
    {
      "cell_type": "code",
      "source": [
        "test_stat, p_value = ttest_ind(regular, holiday, equal_var=False, alternative='less')\n",
        "print('The p-value is : ', p_value)\n",
        "\n",
        "result(p_value, alpha)"
      ],
      "metadata": {
        "colab": {
          "base_uri": "https://localhost:8080/"
        },
        "id": "fqPdElFdXmJy",
        "outputId": "16c28a4b-7f9d-42a3-cb5d-446a2f291929"
      },
      "execution_count": null,
      "outputs": [
        {
          "output_type": "stream",
          "name": "stdout",
          "text": [
            "The p-value is :  0.6310977039882257\n",
            "As the p-value 0.6310977039882257 is greater than the level of significance, we fail to reject the null hypothesis.\n"
          ]
        }
      ]
    },
    {
      "cell_type": "markdown",
      "source": [
        "**Observation**: Since the p-value is greater than the 5% significance level, we fail to reject the null hypothesis. Hence, we have enough statistical evidence to say that the average no. of bike rides during regular days is greater than or equal to those on holidays."
      ],
      "metadata": {
        "id": "Cs53FyVbbI1U"
      }
    },
    {
      "cell_type": "markdown",
      "source": [
        "# Is the demand of bicycles on rent same for different weather conditions?"
      ],
      "metadata": {
        "id": "mG05rm-vdtKU"
      }
    },
    {
      "cell_type": "code",
      "source": [
        "# 3. Weather -\n",
        "\n",
        "# Remove rows where weather condition is categorized as 4 (infreqentdat point only one)\n",
        "dfn = dfn[~(dfn['weather'] == 4)]\n",
        "\n",
        "pd.DataFrame(dfn.groupby('weather')['count'].describe())"
      ],
      "metadata": {
        "colab": {
          "base_uri": "https://localhost:8080/",
          "height": 173
        },
        "id": "S35v0-OO0Ljl",
        "outputId": "b7781983-7802-4681-84c8-dc970b610ead"
      },
      "execution_count": null,
      "outputs": [
        {
          "output_type": "execute_result",
          "data": {
            "text/plain": [
              "          count        mean         std  min   25%    50%    75%    max\n",
              "weather                                                                \n",
              "1        6962.0  187.131140  161.333785  1.0  45.0  153.0  286.0  646.0\n",
              "2        2770.0  166.117690  146.992422  1.0  39.0  130.0  254.0  646.0\n",
              "3         850.0  111.862353  121.233389  1.0  23.0   70.5  157.0  646.0"
            ],
            "text/html": [
              "\n",
              "  <div id=\"df-c2bee864-a689-41b2-af4f-a4485ec1ddb2\" class=\"colab-df-container\">\n",
              "    <div>\n",
              "<style scoped>\n",
              "    .dataframe tbody tr th:only-of-type {\n",
              "        vertical-align: middle;\n",
              "    }\n",
              "\n",
              "    .dataframe tbody tr th {\n",
              "        vertical-align: top;\n",
              "    }\n",
              "\n",
              "    .dataframe thead th {\n",
              "        text-align: right;\n",
              "    }\n",
              "</style>\n",
              "<table border=\"1\" class=\"dataframe\">\n",
              "  <thead>\n",
              "    <tr style=\"text-align: right;\">\n",
              "      <th></th>\n",
              "      <th>count</th>\n",
              "      <th>mean</th>\n",
              "      <th>std</th>\n",
              "      <th>min</th>\n",
              "      <th>25%</th>\n",
              "      <th>50%</th>\n",
              "      <th>75%</th>\n",
              "      <th>max</th>\n",
              "    </tr>\n",
              "    <tr>\n",
              "      <th>weather</th>\n",
              "      <th></th>\n",
              "      <th></th>\n",
              "      <th></th>\n",
              "      <th></th>\n",
              "      <th></th>\n",
              "      <th></th>\n",
              "      <th></th>\n",
              "      <th></th>\n",
              "    </tr>\n",
              "  </thead>\n",
              "  <tbody>\n",
              "    <tr>\n",
              "      <th>1</th>\n",
              "      <td>6962.0</td>\n",
              "      <td>187.131140</td>\n",
              "      <td>161.333785</td>\n",
              "      <td>1.0</td>\n",
              "      <td>45.0</td>\n",
              "      <td>153.0</td>\n",
              "      <td>286.0</td>\n",
              "      <td>646.0</td>\n",
              "    </tr>\n",
              "    <tr>\n",
              "      <th>2</th>\n",
              "      <td>2770.0</td>\n",
              "      <td>166.117690</td>\n",
              "      <td>146.992422</td>\n",
              "      <td>1.0</td>\n",
              "      <td>39.0</td>\n",
              "      <td>130.0</td>\n",
              "      <td>254.0</td>\n",
              "      <td>646.0</td>\n",
              "    </tr>\n",
              "    <tr>\n",
              "      <th>3</th>\n",
              "      <td>850.0</td>\n",
              "      <td>111.862353</td>\n",
              "      <td>121.233389</td>\n",
              "      <td>1.0</td>\n",
              "      <td>23.0</td>\n",
              "      <td>70.5</td>\n",
              "      <td>157.0</td>\n",
              "      <td>646.0</td>\n",
              "    </tr>\n",
              "  </tbody>\n",
              "</table>\n",
              "</div>\n",
              "    <div class=\"colab-df-buttons\">\n",
              "\n",
              "  <div class=\"colab-df-container\">\n",
              "    <button class=\"colab-df-convert\" onclick=\"convertToInteractive('df-c2bee864-a689-41b2-af4f-a4485ec1ddb2')\"\n",
              "            title=\"Convert this dataframe to an interactive table.\"\n",
              "            style=\"display:none;\">\n",
              "\n",
              "  <svg xmlns=\"http://www.w3.org/2000/svg\" height=\"24px\" viewBox=\"0 -960 960 960\">\n",
              "    <path d=\"M120-120v-720h720v720H120Zm60-500h600v-160H180v160Zm220 220h160v-160H400v160Zm0 220h160v-160H400v160ZM180-400h160v-160H180v160Zm440 0h160v-160H620v160ZM180-180h160v-160H180v160Zm440 0h160v-160H620v160Z\"/>\n",
              "  </svg>\n",
              "    </button>\n",
              "\n",
              "  <style>\n",
              "    .colab-df-container {\n",
              "      display:flex;\n",
              "      gap: 12px;\n",
              "    }\n",
              "\n",
              "    .colab-df-convert {\n",
              "      background-color: #E8F0FE;\n",
              "      border: none;\n",
              "      border-radius: 50%;\n",
              "      cursor: pointer;\n",
              "      display: none;\n",
              "      fill: #1967D2;\n",
              "      height: 32px;\n",
              "      padding: 0 0 0 0;\n",
              "      width: 32px;\n",
              "    }\n",
              "\n",
              "    .colab-df-convert:hover {\n",
              "      background-color: #E2EBFA;\n",
              "      box-shadow: 0px 1px 2px rgba(60, 64, 67, 0.3), 0px 1px 3px 1px rgba(60, 64, 67, 0.15);\n",
              "      fill: #174EA6;\n",
              "    }\n",
              "\n",
              "    .colab-df-buttons div {\n",
              "      margin-bottom: 4px;\n",
              "    }\n",
              "\n",
              "    [theme=dark] .colab-df-convert {\n",
              "      background-color: #3B4455;\n",
              "      fill: #D2E3FC;\n",
              "    }\n",
              "\n",
              "    [theme=dark] .colab-df-convert:hover {\n",
              "      background-color: #434B5C;\n",
              "      box-shadow: 0px 1px 3px 1px rgba(0, 0, 0, 0.15);\n",
              "      filter: drop-shadow(0px 1px 2px rgba(0, 0, 0, 0.3));\n",
              "      fill: #FFFFFF;\n",
              "    }\n",
              "  </style>\n",
              "\n",
              "    <script>\n",
              "      const buttonEl =\n",
              "        document.querySelector('#df-c2bee864-a689-41b2-af4f-a4485ec1ddb2 button.colab-df-convert');\n",
              "      buttonEl.style.display =\n",
              "        google.colab.kernel.accessAllowed ? 'block' : 'none';\n",
              "\n",
              "      async function convertToInteractive(key) {\n",
              "        const element = document.querySelector('#df-c2bee864-a689-41b2-af4f-a4485ec1ddb2');\n",
              "        const dataTable =\n",
              "          await google.colab.kernel.invokeFunction('convertToInteractive',\n",
              "                                                    [key], {});\n",
              "        if (!dataTable) return;\n",
              "\n",
              "        const docLinkHtml = 'Like what you see? Visit the ' +\n",
              "          '<a target=\"_blank\" href=https://colab.research.google.com/notebooks/data_table.ipynb>data table notebook</a>'\n",
              "          + ' to learn more about interactive tables.';\n",
              "        element.innerHTML = '';\n",
              "        dataTable['output_type'] = 'display_data';\n",
              "        await google.colab.output.renderOutput(dataTable, element);\n",
              "        const docLink = document.createElement('div');\n",
              "        docLink.innerHTML = docLinkHtml;\n",
              "        element.appendChild(docLink);\n",
              "      }\n",
              "    </script>\n",
              "  </div>\n",
              "\n",
              "\n",
              "<div id=\"df-cee6eeed-71e9-43b7-8d8e-9412eaa3ced2\">\n",
              "  <button class=\"colab-df-quickchart\" onclick=\"quickchart('df-cee6eeed-71e9-43b7-8d8e-9412eaa3ced2')\"\n",
              "            title=\"Suggest charts\"\n",
              "            style=\"display:none;\">\n",
              "\n",
              "<svg xmlns=\"http://www.w3.org/2000/svg\" height=\"24px\"viewBox=\"0 0 24 24\"\n",
              "     width=\"24px\">\n",
              "    <g>\n",
              "        <path d=\"M19 3H5c-1.1 0-2 .9-2 2v14c0 1.1.9 2 2 2h14c1.1 0 2-.9 2-2V5c0-1.1-.9-2-2-2zM9 17H7v-7h2v7zm4 0h-2V7h2v10zm4 0h-2v-4h2v4z\"/>\n",
              "    </g>\n",
              "</svg>\n",
              "  </button>\n",
              "\n",
              "<style>\n",
              "  .colab-df-quickchart {\n",
              "      --bg-color: #E8F0FE;\n",
              "      --fill-color: #1967D2;\n",
              "      --hover-bg-color: #E2EBFA;\n",
              "      --hover-fill-color: #174EA6;\n",
              "      --disabled-fill-color: #AAA;\n",
              "      --disabled-bg-color: #DDD;\n",
              "  }\n",
              "\n",
              "  [theme=dark] .colab-df-quickchart {\n",
              "      --bg-color: #3B4455;\n",
              "      --fill-color: #D2E3FC;\n",
              "      --hover-bg-color: #434B5C;\n",
              "      --hover-fill-color: #FFFFFF;\n",
              "      --disabled-bg-color: #3B4455;\n",
              "      --disabled-fill-color: #666;\n",
              "  }\n",
              "\n",
              "  .colab-df-quickchart {\n",
              "    background-color: var(--bg-color);\n",
              "    border: none;\n",
              "    border-radius: 50%;\n",
              "    cursor: pointer;\n",
              "    display: none;\n",
              "    fill: var(--fill-color);\n",
              "    height: 32px;\n",
              "    padding: 0;\n",
              "    width: 32px;\n",
              "  }\n",
              "\n",
              "  .colab-df-quickchart:hover {\n",
              "    background-color: var(--hover-bg-color);\n",
              "    box-shadow: 0 1px 2px rgba(60, 64, 67, 0.3), 0 1px 3px 1px rgba(60, 64, 67, 0.15);\n",
              "    fill: var(--button-hover-fill-color);\n",
              "  }\n",
              "\n",
              "  .colab-df-quickchart-complete:disabled,\n",
              "  .colab-df-quickchart-complete:disabled:hover {\n",
              "    background-color: var(--disabled-bg-color);\n",
              "    fill: var(--disabled-fill-color);\n",
              "    box-shadow: none;\n",
              "  }\n",
              "\n",
              "  .colab-df-spinner {\n",
              "    border: 2px solid var(--fill-color);\n",
              "    border-color: transparent;\n",
              "    border-bottom-color: var(--fill-color);\n",
              "    animation:\n",
              "      spin 1s steps(1) infinite;\n",
              "  }\n",
              "\n",
              "  @keyframes spin {\n",
              "    0% {\n",
              "      border-color: transparent;\n",
              "      border-bottom-color: var(--fill-color);\n",
              "      border-left-color: var(--fill-color);\n",
              "    }\n",
              "    20% {\n",
              "      border-color: transparent;\n",
              "      border-left-color: var(--fill-color);\n",
              "      border-top-color: var(--fill-color);\n",
              "    }\n",
              "    30% {\n",
              "      border-color: transparent;\n",
              "      border-left-color: var(--fill-color);\n",
              "      border-top-color: var(--fill-color);\n",
              "      border-right-color: var(--fill-color);\n",
              "    }\n",
              "    40% {\n",
              "      border-color: transparent;\n",
              "      border-right-color: var(--fill-color);\n",
              "      border-top-color: var(--fill-color);\n",
              "    }\n",
              "    60% {\n",
              "      border-color: transparent;\n",
              "      border-right-color: var(--fill-color);\n",
              "    }\n",
              "    80% {\n",
              "      border-color: transparent;\n",
              "      border-right-color: var(--fill-color);\n",
              "      border-bottom-color: var(--fill-color);\n",
              "    }\n",
              "    90% {\n",
              "      border-color: transparent;\n",
              "      border-bottom-color: var(--fill-color);\n",
              "    }\n",
              "  }\n",
              "</style>\n",
              "\n",
              "  <script>\n",
              "    async function quickchart(key) {\n",
              "      const quickchartButtonEl =\n",
              "        document.querySelector('#' + key + ' button');\n",
              "      quickchartButtonEl.disabled = true;  // To prevent multiple clicks.\n",
              "      quickchartButtonEl.classList.add('colab-df-spinner');\n",
              "      try {\n",
              "        const charts = await google.colab.kernel.invokeFunction(\n",
              "            'suggestCharts', [key], {});\n",
              "      } catch (error) {\n",
              "        console.error('Error during call to suggestCharts:', error);\n",
              "      }\n",
              "      quickchartButtonEl.classList.remove('colab-df-spinner');\n",
              "      quickchartButtonEl.classList.add('colab-df-quickchart-complete');\n",
              "    }\n",
              "    (() => {\n",
              "      let quickchartButtonEl =\n",
              "        document.querySelector('#df-cee6eeed-71e9-43b7-8d8e-9412eaa3ced2 button');\n",
              "      quickchartButtonEl.style.display =\n",
              "        google.colab.kernel.accessAllowed ? 'block' : 'none';\n",
              "    })();\n",
              "  </script>\n",
              "</div>\n",
              "    </div>\n",
              "  </div>\n"
            ]
          },
          "metadata": {},
          "execution_count": 56
        }
      ]
    },
    {
      "cell_type": "markdown",
      "source": [
        "Step 1: Define the null and alternate hypothesis\n",
        "\n",
        "```\n",
        "\n",
        "\n",
        "𝐻0:  The average no. of bike rides in different weather conditions are equal.\n",
        "\n",
        "𝐻𝑎:  The average no. of bike rides in different weather conditions are not equal.\n",
        "\n",
        "Let  𝜇1  and  𝜇2  be the average no. of bikes rented on weekdays and weekends respectively.\n",
        "```\n",
        "\n"
      ],
      "metadata": {
        "id": "2uBmdixId7_U"
      }
    },
    {
      "cell_type": "markdown",
      "source": [
        "Step 2: Select an appropriate test"
      ],
      "metadata": {
        "id": "-28mTFmkeKe5"
      }
    },
    {
      "cell_type": "code",
      "source": [
        "w1 = dfn[dfn['weather'] == 1]['count'].sample(750)\n",
        "w2 = dfn[dfn['weather'] == 2]['count'].sample(750)\n",
        "w3 = dfn[dfn['weather'] == 3]['count'].sample(750)\n"
      ],
      "metadata": {
        "id": "hhNnS9PTeczt"
      },
      "execution_count": null,
      "outputs": []
    },
    {
      "cell_type": "code",
      "source": [
        "dfn.groupby(['weather'])['count'].describe()"
      ],
      "metadata": {
        "colab": {
          "base_uri": "https://localhost:8080/",
          "height": 173
        },
        "id": "MBTbhZwLfj4P",
        "outputId": "91437095-a6df-4abf-e4b4-a4f0916465d9"
      },
      "execution_count": null,
      "outputs": [
        {
          "output_type": "execute_result",
          "data": {
            "text/plain": [
              "          count        mean         std  min   25%    50%    75%    max\n",
              "weather                                                                \n",
              "1        6962.0  187.131140  161.333785  1.0  45.0  153.0  286.0  646.0\n",
              "2        2770.0  166.117690  146.992422  1.0  39.0  130.0  254.0  646.0\n",
              "3         850.0  111.862353  121.233389  1.0  23.0   70.5  157.0  646.0"
            ],
            "text/html": [
              "\n",
              "  <div id=\"df-506454da-66dc-4784-97db-0bde7da3f00a\" class=\"colab-df-container\">\n",
              "    <div>\n",
              "<style scoped>\n",
              "    .dataframe tbody tr th:only-of-type {\n",
              "        vertical-align: middle;\n",
              "    }\n",
              "\n",
              "    .dataframe tbody tr th {\n",
              "        vertical-align: top;\n",
              "    }\n",
              "\n",
              "    .dataframe thead th {\n",
              "        text-align: right;\n",
              "    }\n",
              "</style>\n",
              "<table border=\"1\" class=\"dataframe\">\n",
              "  <thead>\n",
              "    <tr style=\"text-align: right;\">\n",
              "      <th></th>\n",
              "      <th>count</th>\n",
              "      <th>mean</th>\n",
              "      <th>std</th>\n",
              "      <th>min</th>\n",
              "      <th>25%</th>\n",
              "      <th>50%</th>\n",
              "      <th>75%</th>\n",
              "      <th>max</th>\n",
              "    </tr>\n",
              "    <tr>\n",
              "      <th>weather</th>\n",
              "      <th></th>\n",
              "      <th></th>\n",
              "      <th></th>\n",
              "      <th></th>\n",
              "      <th></th>\n",
              "      <th></th>\n",
              "      <th></th>\n",
              "      <th></th>\n",
              "    </tr>\n",
              "  </thead>\n",
              "  <tbody>\n",
              "    <tr>\n",
              "      <th>1</th>\n",
              "      <td>6962.0</td>\n",
              "      <td>187.131140</td>\n",
              "      <td>161.333785</td>\n",
              "      <td>1.0</td>\n",
              "      <td>45.0</td>\n",
              "      <td>153.0</td>\n",
              "      <td>286.0</td>\n",
              "      <td>646.0</td>\n",
              "    </tr>\n",
              "    <tr>\n",
              "      <th>2</th>\n",
              "      <td>2770.0</td>\n",
              "      <td>166.117690</td>\n",
              "      <td>146.992422</td>\n",
              "      <td>1.0</td>\n",
              "      <td>39.0</td>\n",
              "      <td>130.0</td>\n",
              "      <td>254.0</td>\n",
              "      <td>646.0</td>\n",
              "    </tr>\n",
              "    <tr>\n",
              "      <th>3</th>\n",
              "      <td>850.0</td>\n",
              "      <td>111.862353</td>\n",
              "      <td>121.233389</td>\n",
              "      <td>1.0</td>\n",
              "      <td>23.0</td>\n",
              "      <td>70.5</td>\n",
              "      <td>157.0</td>\n",
              "      <td>646.0</td>\n",
              "    </tr>\n",
              "  </tbody>\n",
              "</table>\n",
              "</div>\n",
              "    <div class=\"colab-df-buttons\">\n",
              "\n",
              "  <div class=\"colab-df-container\">\n",
              "    <button class=\"colab-df-convert\" onclick=\"convertToInteractive('df-506454da-66dc-4784-97db-0bde7da3f00a')\"\n",
              "            title=\"Convert this dataframe to an interactive table.\"\n",
              "            style=\"display:none;\">\n",
              "\n",
              "  <svg xmlns=\"http://www.w3.org/2000/svg\" height=\"24px\" viewBox=\"0 -960 960 960\">\n",
              "    <path d=\"M120-120v-720h720v720H120Zm60-500h600v-160H180v160Zm220 220h160v-160H400v160Zm0 220h160v-160H400v160ZM180-400h160v-160H180v160Zm440 0h160v-160H620v160ZM180-180h160v-160H180v160Zm440 0h160v-160H620v160Z\"/>\n",
              "  </svg>\n",
              "    </button>\n",
              "\n",
              "  <style>\n",
              "    .colab-df-container {\n",
              "      display:flex;\n",
              "      gap: 12px;\n",
              "    }\n",
              "\n",
              "    .colab-df-convert {\n",
              "      background-color: #E8F0FE;\n",
              "      border: none;\n",
              "      border-radius: 50%;\n",
              "      cursor: pointer;\n",
              "      display: none;\n",
              "      fill: #1967D2;\n",
              "      height: 32px;\n",
              "      padding: 0 0 0 0;\n",
              "      width: 32px;\n",
              "    }\n",
              "\n",
              "    .colab-df-convert:hover {\n",
              "      background-color: #E2EBFA;\n",
              "      box-shadow: 0px 1px 2px rgba(60, 64, 67, 0.3), 0px 1px 3px 1px rgba(60, 64, 67, 0.15);\n",
              "      fill: #174EA6;\n",
              "    }\n",
              "\n",
              "    .colab-df-buttons div {\n",
              "      margin-bottom: 4px;\n",
              "    }\n",
              "\n",
              "    [theme=dark] .colab-df-convert {\n",
              "      background-color: #3B4455;\n",
              "      fill: #D2E3FC;\n",
              "    }\n",
              "\n",
              "    [theme=dark] .colab-df-convert:hover {\n",
              "      background-color: #434B5C;\n",
              "      box-shadow: 0px 1px 3px 1px rgba(0, 0, 0, 0.15);\n",
              "      filter: drop-shadow(0px 1px 2px rgba(0, 0, 0, 0.3));\n",
              "      fill: #FFFFFF;\n",
              "    }\n",
              "  </style>\n",
              "\n",
              "    <script>\n",
              "      const buttonEl =\n",
              "        document.querySelector('#df-506454da-66dc-4784-97db-0bde7da3f00a button.colab-df-convert');\n",
              "      buttonEl.style.display =\n",
              "        google.colab.kernel.accessAllowed ? 'block' : 'none';\n",
              "\n",
              "      async function convertToInteractive(key) {\n",
              "        const element = document.querySelector('#df-506454da-66dc-4784-97db-0bde7da3f00a');\n",
              "        const dataTable =\n",
              "          await google.colab.kernel.invokeFunction('convertToInteractive',\n",
              "                                                    [key], {});\n",
              "        if (!dataTable) return;\n",
              "\n",
              "        const docLinkHtml = 'Like what you see? Visit the ' +\n",
              "          '<a target=\"_blank\" href=https://colab.research.google.com/notebooks/data_table.ipynb>data table notebook</a>'\n",
              "          + ' to learn more about interactive tables.';\n",
              "        element.innerHTML = '';\n",
              "        dataTable['output_type'] = 'display_data';\n",
              "        await google.colab.output.renderOutput(dataTable, element);\n",
              "        const docLink = document.createElement('div');\n",
              "        docLink.innerHTML = docLinkHtml;\n",
              "        element.appendChild(docLink);\n",
              "      }\n",
              "    </script>\n",
              "  </div>\n",
              "\n",
              "\n",
              "<div id=\"df-4dda2d1d-2637-4f70-b2c6-6eb3a0d87c25\">\n",
              "  <button class=\"colab-df-quickchart\" onclick=\"quickchart('df-4dda2d1d-2637-4f70-b2c6-6eb3a0d87c25')\"\n",
              "            title=\"Suggest charts\"\n",
              "            style=\"display:none;\">\n",
              "\n",
              "<svg xmlns=\"http://www.w3.org/2000/svg\" height=\"24px\"viewBox=\"0 0 24 24\"\n",
              "     width=\"24px\">\n",
              "    <g>\n",
              "        <path d=\"M19 3H5c-1.1 0-2 .9-2 2v14c0 1.1.9 2 2 2h14c1.1 0 2-.9 2-2V5c0-1.1-.9-2-2-2zM9 17H7v-7h2v7zm4 0h-2V7h2v10zm4 0h-2v-4h2v4z\"/>\n",
              "    </g>\n",
              "</svg>\n",
              "  </button>\n",
              "\n",
              "<style>\n",
              "  .colab-df-quickchart {\n",
              "      --bg-color: #E8F0FE;\n",
              "      --fill-color: #1967D2;\n",
              "      --hover-bg-color: #E2EBFA;\n",
              "      --hover-fill-color: #174EA6;\n",
              "      --disabled-fill-color: #AAA;\n",
              "      --disabled-bg-color: #DDD;\n",
              "  }\n",
              "\n",
              "  [theme=dark] .colab-df-quickchart {\n",
              "      --bg-color: #3B4455;\n",
              "      --fill-color: #D2E3FC;\n",
              "      --hover-bg-color: #434B5C;\n",
              "      --hover-fill-color: #FFFFFF;\n",
              "      --disabled-bg-color: #3B4455;\n",
              "      --disabled-fill-color: #666;\n",
              "  }\n",
              "\n",
              "  .colab-df-quickchart {\n",
              "    background-color: var(--bg-color);\n",
              "    border: none;\n",
              "    border-radius: 50%;\n",
              "    cursor: pointer;\n",
              "    display: none;\n",
              "    fill: var(--fill-color);\n",
              "    height: 32px;\n",
              "    padding: 0;\n",
              "    width: 32px;\n",
              "  }\n",
              "\n",
              "  .colab-df-quickchart:hover {\n",
              "    background-color: var(--hover-bg-color);\n",
              "    box-shadow: 0 1px 2px rgba(60, 64, 67, 0.3), 0 1px 3px 1px rgba(60, 64, 67, 0.15);\n",
              "    fill: var(--button-hover-fill-color);\n",
              "  }\n",
              "\n",
              "  .colab-df-quickchart-complete:disabled,\n",
              "  .colab-df-quickchart-complete:disabled:hover {\n",
              "    background-color: var(--disabled-bg-color);\n",
              "    fill: var(--disabled-fill-color);\n",
              "    box-shadow: none;\n",
              "  }\n",
              "\n",
              "  .colab-df-spinner {\n",
              "    border: 2px solid var(--fill-color);\n",
              "    border-color: transparent;\n",
              "    border-bottom-color: var(--fill-color);\n",
              "    animation:\n",
              "      spin 1s steps(1) infinite;\n",
              "  }\n",
              "\n",
              "  @keyframes spin {\n",
              "    0% {\n",
              "      border-color: transparent;\n",
              "      border-bottom-color: var(--fill-color);\n",
              "      border-left-color: var(--fill-color);\n",
              "    }\n",
              "    20% {\n",
              "      border-color: transparent;\n",
              "      border-left-color: var(--fill-color);\n",
              "      border-top-color: var(--fill-color);\n",
              "    }\n",
              "    30% {\n",
              "      border-color: transparent;\n",
              "      border-left-color: var(--fill-color);\n",
              "      border-top-color: var(--fill-color);\n",
              "      border-right-color: var(--fill-color);\n",
              "    }\n",
              "    40% {\n",
              "      border-color: transparent;\n",
              "      border-right-color: var(--fill-color);\n",
              "      border-top-color: var(--fill-color);\n",
              "    }\n",
              "    60% {\n",
              "      border-color: transparent;\n",
              "      border-right-color: var(--fill-color);\n",
              "    }\n",
              "    80% {\n",
              "      border-color: transparent;\n",
              "      border-right-color: var(--fill-color);\n",
              "      border-bottom-color: var(--fill-color);\n",
              "    }\n",
              "    90% {\n",
              "      border-color: transparent;\n",
              "      border-bottom-color: var(--fill-color);\n",
              "    }\n",
              "  }\n",
              "</style>\n",
              "\n",
              "  <script>\n",
              "    async function quickchart(key) {\n",
              "      const quickchartButtonEl =\n",
              "        document.querySelector('#' + key + ' button');\n",
              "      quickchartButtonEl.disabled = true;  // To prevent multiple clicks.\n",
              "      quickchartButtonEl.classList.add('colab-df-spinner');\n",
              "      try {\n",
              "        const charts = await google.colab.kernel.invokeFunction(\n",
              "            'suggestCharts', [key], {});\n",
              "      } catch (error) {\n",
              "        console.error('Error during call to suggestCharts:', error);\n",
              "      }\n",
              "      quickchartButtonEl.classList.remove('colab-df-spinner');\n",
              "      quickchartButtonEl.classList.add('colab-df-quickchart-complete');\n",
              "    }\n",
              "    (() => {\n",
              "      let quickchartButtonEl =\n",
              "        document.querySelector('#df-4dda2d1d-2637-4f70-b2c6-6eb3a0d87c25 button');\n",
              "      quickchartButtonEl.style.display =\n",
              "        google.colab.kernel.accessAllowed ? 'block' : 'none';\n",
              "    })();\n",
              "  </script>\n",
              "</div>\n",
              "    </div>\n",
              "  </div>\n"
            ]
          },
          "metadata": {},
          "execution_count": 58
        }
      ]
    },
    {
      "cell_type": "markdown",
      "source": [
        "This is a problem, concerning three independent population means. One-way ANOVA could be the appropriate test here provided normality and equality of variance assumptions are verified.\n",
        "\n",
        "\n",
        "The ANOVA test has important assumptions that must be satisfied in order for the associated p-value to be valid.\n",
        "\n",
        "The samples are independent.\n",
        "\n",
        "Each sample is from a normally distributed population.\n",
        "\n",
        "The population variance of the groups are all equal.\n",
        "\n",
        "Now, we will be using the following statistical tests to check the normality and euality of variance of the data set -\n",
        "\n",
        "For testing of normality, Shapiro-Wilk’s test is applied to the response variable.\n",
        "For equality of variance, Levene test is applied to the response variable.\n"
      ],
      "metadata": {
        "id": "LdVZBT0MeMcu"
      }
    },
    {
      "cell_type": "markdown",
      "source": [
        "# Shapiro-Wilk’s test -"
      ],
      "metadata": {
        "id": "W6QpFOgKoHAS"
      }
    },
    {
      "cell_type": "markdown",
      "source": [
        "We will test the null hypothesis\n",
        "\n",
        ">$H_0:$ Count follows normal distribution\n",
        "\n",
        "against the alternative hypothesis\n",
        "\n",
        ">$H_a:$ Count doesn't follow normal distribution"
      ],
      "metadata": {
        "id": "qZY0GOf-oJOe"
      }
    },
    {
      "cell_type": "code",
      "source": [
        "# Assumption 1: Normality\n",
        "\n",
        "w, p_value = shapiro(dfn['count'].sample(4999))\n",
        "print('The p-value is : ', p_value)\n",
        "\n",
        "result(p_value, alpha)"
      ],
      "metadata": {
        "colab": {
          "base_uri": "https://localhost:8080/"
        },
        "id": "9Hq5fplIoGwM",
        "outputId": "a61e658b-c1c0-40ea-c319-d9ea33abfe87"
      },
      "execution_count": null,
      "outputs": [
        {
          "output_type": "stream",
          "name": "stdout",
          "text": [
            "The p-value is :  0.0\n",
            "As the p-value 0.0 is less than the level of significance, we reject the null hypothesis.\n"
          ]
        }
      ]
    },
    {
      "cell_type": "markdown",
      "source": [
        "# Levene’s test -"
      ],
      "metadata": {
        "id": "JNmKeLjx3OdE"
      }
    },
    {
      "cell_type": "markdown",
      "source": [
        "\n",
        "We will test the null hypothesis\n",
        "\n",
        ">$H_0$: All the count variances are equal\n",
        "\n",
        "against the alternative hypothesis\n",
        "\n",
        ">$H_a$: At least one variance is different from the rest"
      ],
      "metadata": {
        "id": "y1F5teKj3P_j"
      }
    },
    {
      "cell_type": "code",
      "source": [
        "#Assumption 2: Homogeneity of Variance\n",
        "\n",
        "stat, p_value = levene(w1, w2, w3)\n",
        "print('The p-value is : ', p_value)\n",
        "\n",
        "result(p_value, alpha)"
      ],
      "metadata": {
        "colab": {
          "base_uri": "https://localhost:8080/"
        },
        "id": "U6ZLpLJ5oGtf",
        "outputId": "506f0a5a-ea06-4aa9-9cbb-d3931096a912"
      },
      "execution_count": null,
      "outputs": [
        {
          "output_type": "stream",
          "name": "stdout",
          "text": [
            "The p-value is :  2.8673092800754276e-16\n",
            "As the p-value 2.8673092800754276e-16 is less than the level of significance, we reject the null hypothesis.\n"
          ]
        }
      ]
    },
    {
      "cell_type": "markdown",
      "source": [
        "From these test we found the sample is not normally distributed nor the population variance of the groups are all equal."
      ],
      "metadata": {
        "id": "Qjrcxgu53ksC"
      }
    },
    {
      "cell_type": "markdown",
      "source": [
        "# Central Limit Theorem -\n",
        "\n",
        "\n",
        "\n",
        "* According to this theorem, the distribution of sample means approximates a normal distribution as the sample size gets larger, regardless of the population's distribution.\n",
        "\n",
        "* In other words, if we find the mean of a large number of independent random variables, the mean\n",
        "will follow a normal distribution, irrespective of the distribution of the original variables.\n",
        "\n",
        "* In practice, sample sizes equal to or greater than 30-40 are often considered sufficient for the CLT to hold.\n",
        "\n",
        "Hence, the sample size being large enough, we don't need to worry about the non-normality of distribution of the data set in hand before applying the tests.\n",
        "\n",
        "Eventually, as the sample size gets larger, the distribution of sample means will fall into a normal or near normal shape.\n"
      ],
      "metadata": {
        "id": "GkUaoUmU36SV"
      }
    },
    {
      "cell_type": "markdown",
      "source": [
        "Step 3: Decide the significance level\n",
        "\n",
        "The significance level (α) is already set to 5% i.e., 0.05"
      ],
      "metadata": {
        "id": "1GDOoJj95JCj"
      }
    },
    {
      "cell_type": "code",
      "source": [
        "test_stat, p_value = f_oneway(w1, w2, w3)\n",
        "print('The p-value is : ', p_value)\n",
        "\n",
        "result(p_value, alpha)"
      ],
      "metadata": {
        "colab": {
          "base_uri": "https://localhost:8080/"
        },
        "id": "91otNP-woGo7",
        "outputId": "3d13ec9e-07a8-43b1-a19d-37442288a3ab"
      },
      "execution_count": null,
      "outputs": [
        {
          "output_type": "stream",
          "name": "stdout",
          "text": [
            "The p-value is :  1.649555098895465e-22\n",
            "As the p-value 1.649555098895465e-22 is less than the level of significance, we reject the null hypothesis.\n"
          ]
        }
      ]
    },
    {
      "cell_type": "markdown",
      "source": [
        "**Observation**: Since the p-value is less than the 5% significance level, we reject the null hypothesis. Hence, we have enough statistical evidence to say that the average no. of bike rides in different weather conditions are not equal."
      ],
      "metadata": {
        "id": "wgQIxEPc5W7C"
      }
    },
    {
      "cell_type": "code",
      "source": [],
      "metadata": {
        "id": "zh9rtAkpoGmL"
      },
      "execution_count": null,
      "outputs": []
    },
    {
      "cell_type": "code",
      "source": [],
      "metadata": {
        "id": "Q9fesHvboGjT"
      },
      "execution_count": null,
      "outputs": []
    },
    {
      "cell_type": "code",
      "source": [],
      "metadata": {
        "id": "aWErUklWoGgt"
      },
      "execution_count": null,
      "outputs": []
    },
    {
      "cell_type": "code",
      "source": [],
      "metadata": {
        "id": "PJW44Wx8oGd6"
      },
      "execution_count": null,
      "outputs": []
    },
    {
      "cell_type": "code",
      "source": [],
      "metadata": {
        "id": "LNE9VvO7575u"
      },
      "execution_count": null,
      "outputs": []
    },
    {
      "cell_type": "code",
      "source": [],
      "metadata": {
        "id": "ErJfeURwoGbH"
      },
      "execution_count": null,
      "outputs": []
    },
    {
      "cell_type": "code",
      "source": [],
      "metadata": {
        "id": "QutMBxlEoGYf"
      },
      "execution_count": null,
      "outputs": []
    },
    {
      "cell_type": "markdown",
      "source": [
        "#  Is the demand of bicycles on rent same for different seasons?"
      ],
      "metadata": {
        "id": "R5R3jYav54Ln"
      }
    },
    {
      "cell_type": "code",
      "source": [
        "# 4. Season -\n",
        "pd.DataFrame(dfn.groupby('season')['count'].describe())"
      ],
      "metadata": {
        "colab": {
          "base_uri": "https://localhost:8080/",
          "height": 204
        },
        "id": "gbCPfFgx0LmM",
        "outputId": "e4790ca1-2d08-4e4b-928a-1881da36044c"
      },
      "execution_count": null,
      "outputs": [
        {
          "output_type": "execute_result",
          "data": {
            "text/plain": [
              "         count        mean         std  min    25%    50%     75%    max\n",
              "season                                                                  \n",
              "1       2669.0  112.775946  116.902627  1.0  24.00   78.0  161.00  644.0\n",
              "2       2633.0  195.653627  166.170802  1.0  45.00  165.0  299.00  646.0\n",
              "3       2616.0  210.484327  164.055532  1.0  59.75  185.0  323.25  646.0\n",
              "4       2664.0  184.404655  154.563069  1.0  48.75  154.0  276.25  646.0"
            ],
            "text/html": [
              "\n",
              "  <div id=\"df-7481ee3c-fa5d-4f10-82fc-8270746a11e4\" class=\"colab-df-container\">\n",
              "    <div>\n",
              "<style scoped>\n",
              "    .dataframe tbody tr th:only-of-type {\n",
              "        vertical-align: middle;\n",
              "    }\n",
              "\n",
              "    .dataframe tbody tr th {\n",
              "        vertical-align: top;\n",
              "    }\n",
              "\n",
              "    .dataframe thead th {\n",
              "        text-align: right;\n",
              "    }\n",
              "</style>\n",
              "<table border=\"1\" class=\"dataframe\">\n",
              "  <thead>\n",
              "    <tr style=\"text-align: right;\">\n",
              "      <th></th>\n",
              "      <th>count</th>\n",
              "      <th>mean</th>\n",
              "      <th>std</th>\n",
              "      <th>min</th>\n",
              "      <th>25%</th>\n",
              "      <th>50%</th>\n",
              "      <th>75%</th>\n",
              "      <th>max</th>\n",
              "    </tr>\n",
              "    <tr>\n",
              "      <th>season</th>\n",
              "      <th></th>\n",
              "      <th></th>\n",
              "      <th></th>\n",
              "      <th></th>\n",
              "      <th></th>\n",
              "      <th></th>\n",
              "      <th></th>\n",
              "      <th></th>\n",
              "    </tr>\n",
              "  </thead>\n",
              "  <tbody>\n",
              "    <tr>\n",
              "      <th>1</th>\n",
              "      <td>2669.0</td>\n",
              "      <td>112.775946</td>\n",
              "      <td>116.902627</td>\n",
              "      <td>1.0</td>\n",
              "      <td>24.00</td>\n",
              "      <td>78.0</td>\n",
              "      <td>161.00</td>\n",
              "      <td>644.0</td>\n",
              "    </tr>\n",
              "    <tr>\n",
              "      <th>2</th>\n",
              "      <td>2633.0</td>\n",
              "      <td>195.653627</td>\n",
              "      <td>166.170802</td>\n",
              "      <td>1.0</td>\n",
              "      <td>45.00</td>\n",
              "      <td>165.0</td>\n",
              "      <td>299.00</td>\n",
              "      <td>646.0</td>\n",
              "    </tr>\n",
              "    <tr>\n",
              "      <th>3</th>\n",
              "      <td>2616.0</td>\n",
              "      <td>210.484327</td>\n",
              "      <td>164.055532</td>\n",
              "      <td>1.0</td>\n",
              "      <td>59.75</td>\n",
              "      <td>185.0</td>\n",
              "      <td>323.25</td>\n",
              "      <td>646.0</td>\n",
              "    </tr>\n",
              "    <tr>\n",
              "      <th>4</th>\n",
              "      <td>2664.0</td>\n",
              "      <td>184.404655</td>\n",
              "      <td>154.563069</td>\n",
              "      <td>1.0</td>\n",
              "      <td>48.75</td>\n",
              "      <td>154.0</td>\n",
              "      <td>276.25</td>\n",
              "      <td>646.0</td>\n",
              "    </tr>\n",
              "  </tbody>\n",
              "</table>\n",
              "</div>\n",
              "    <div class=\"colab-df-buttons\">\n",
              "\n",
              "  <div class=\"colab-df-container\">\n",
              "    <button class=\"colab-df-convert\" onclick=\"convertToInteractive('df-7481ee3c-fa5d-4f10-82fc-8270746a11e4')\"\n",
              "            title=\"Convert this dataframe to an interactive table.\"\n",
              "            style=\"display:none;\">\n",
              "\n",
              "  <svg xmlns=\"http://www.w3.org/2000/svg\" height=\"24px\" viewBox=\"0 -960 960 960\">\n",
              "    <path d=\"M120-120v-720h720v720H120Zm60-500h600v-160H180v160Zm220 220h160v-160H400v160Zm0 220h160v-160H400v160ZM180-400h160v-160H180v160Zm440 0h160v-160H620v160ZM180-180h160v-160H180v160Zm440 0h160v-160H620v160Z\"/>\n",
              "  </svg>\n",
              "    </button>\n",
              "\n",
              "  <style>\n",
              "    .colab-df-container {\n",
              "      display:flex;\n",
              "      gap: 12px;\n",
              "    }\n",
              "\n",
              "    .colab-df-convert {\n",
              "      background-color: #E8F0FE;\n",
              "      border: none;\n",
              "      border-radius: 50%;\n",
              "      cursor: pointer;\n",
              "      display: none;\n",
              "      fill: #1967D2;\n",
              "      height: 32px;\n",
              "      padding: 0 0 0 0;\n",
              "      width: 32px;\n",
              "    }\n",
              "\n",
              "    .colab-df-convert:hover {\n",
              "      background-color: #E2EBFA;\n",
              "      box-shadow: 0px 1px 2px rgba(60, 64, 67, 0.3), 0px 1px 3px 1px rgba(60, 64, 67, 0.15);\n",
              "      fill: #174EA6;\n",
              "    }\n",
              "\n",
              "    .colab-df-buttons div {\n",
              "      margin-bottom: 4px;\n",
              "    }\n",
              "\n",
              "    [theme=dark] .colab-df-convert {\n",
              "      background-color: #3B4455;\n",
              "      fill: #D2E3FC;\n",
              "    }\n",
              "\n",
              "    [theme=dark] .colab-df-convert:hover {\n",
              "      background-color: #434B5C;\n",
              "      box-shadow: 0px 1px 3px 1px rgba(0, 0, 0, 0.15);\n",
              "      filter: drop-shadow(0px 1px 2px rgba(0, 0, 0, 0.3));\n",
              "      fill: #FFFFFF;\n",
              "    }\n",
              "  </style>\n",
              "\n",
              "    <script>\n",
              "      const buttonEl =\n",
              "        document.querySelector('#df-7481ee3c-fa5d-4f10-82fc-8270746a11e4 button.colab-df-convert');\n",
              "      buttonEl.style.display =\n",
              "        google.colab.kernel.accessAllowed ? 'block' : 'none';\n",
              "\n",
              "      async function convertToInteractive(key) {\n",
              "        const element = document.querySelector('#df-7481ee3c-fa5d-4f10-82fc-8270746a11e4');\n",
              "        const dataTable =\n",
              "          await google.colab.kernel.invokeFunction('convertToInteractive',\n",
              "                                                    [key], {});\n",
              "        if (!dataTable) return;\n",
              "\n",
              "        const docLinkHtml = 'Like what you see? Visit the ' +\n",
              "          '<a target=\"_blank\" href=https://colab.research.google.com/notebooks/data_table.ipynb>data table notebook</a>'\n",
              "          + ' to learn more about interactive tables.';\n",
              "        element.innerHTML = '';\n",
              "        dataTable['output_type'] = 'display_data';\n",
              "        await google.colab.output.renderOutput(dataTable, element);\n",
              "        const docLink = document.createElement('div');\n",
              "        docLink.innerHTML = docLinkHtml;\n",
              "        element.appendChild(docLink);\n",
              "      }\n",
              "    </script>\n",
              "  </div>\n",
              "\n",
              "\n",
              "<div id=\"df-ef73b513-bfaa-46c1-afa5-231fe3df97a0\">\n",
              "  <button class=\"colab-df-quickchart\" onclick=\"quickchart('df-ef73b513-bfaa-46c1-afa5-231fe3df97a0')\"\n",
              "            title=\"Suggest charts\"\n",
              "            style=\"display:none;\">\n",
              "\n",
              "<svg xmlns=\"http://www.w3.org/2000/svg\" height=\"24px\"viewBox=\"0 0 24 24\"\n",
              "     width=\"24px\">\n",
              "    <g>\n",
              "        <path d=\"M19 3H5c-1.1 0-2 .9-2 2v14c0 1.1.9 2 2 2h14c1.1 0 2-.9 2-2V5c0-1.1-.9-2-2-2zM9 17H7v-7h2v7zm4 0h-2V7h2v10zm4 0h-2v-4h2v4z\"/>\n",
              "    </g>\n",
              "</svg>\n",
              "  </button>\n",
              "\n",
              "<style>\n",
              "  .colab-df-quickchart {\n",
              "      --bg-color: #E8F0FE;\n",
              "      --fill-color: #1967D2;\n",
              "      --hover-bg-color: #E2EBFA;\n",
              "      --hover-fill-color: #174EA6;\n",
              "      --disabled-fill-color: #AAA;\n",
              "      --disabled-bg-color: #DDD;\n",
              "  }\n",
              "\n",
              "  [theme=dark] .colab-df-quickchart {\n",
              "      --bg-color: #3B4455;\n",
              "      --fill-color: #D2E3FC;\n",
              "      --hover-bg-color: #434B5C;\n",
              "      --hover-fill-color: #FFFFFF;\n",
              "      --disabled-bg-color: #3B4455;\n",
              "      --disabled-fill-color: #666;\n",
              "  }\n",
              "\n",
              "  .colab-df-quickchart {\n",
              "    background-color: var(--bg-color);\n",
              "    border: none;\n",
              "    border-radius: 50%;\n",
              "    cursor: pointer;\n",
              "    display: none;\n",
              "    fill: var(--fill-color);\n",
              "    height: 32px;\n",
              "    padding: 0;\n",
              "    width: 32px;\n",
              "  }\n",
              "\n",
              "  .colab-df-quickchart:hover {\n",
              "    background-color: var(--hover-bg-color);\n",
              "    box-shadow: 0 1px 2px rgba(60, 64, 67, 0.3), 0 1px 3px 1px rgba(60, 64, 67, 0.15);\n",
              "    fill: var(--button-hover-fill-color);\n",
              "  }\n",
              "\n",
              "  .colab-df-quickchart-complete:disabled,\n",
              "  .colab-df-quickchart-complete:disabled:hover {\n",
              "    background-color: var(--disabled-bg-color);\n",
              "    fill: var(--disabled-fill-color);\n",
              "    box-shadow: none;\n",
              "  }\n",
              "\n",
              "  .colab-df-spinner {\n",
              "    border: 2px solid var(--fill-color);\n",
              "    border-color: transparent;\n",
              "    border-bottom-color: var(--fill-color);\n",
              "    animation:\n",
              "      spin 1s steps(1) infinite;\n",
              "  }\n",
              "\n",
              "  @keyframes spin {\n",
              "    0% {\n",
              "      border-color: transparent;\n",
              "      border-bottom-color: var(--fill-color);\n",
              "      border-left-color: var(--fill-color);\n",
              "    }\n",
              "    20% {\n",
              "      border-color: transparent;\n",
              "      border-left-color: var(--fill-color);\n",
              "      border-top-color: var(--fill-color);\n",
              "    }\n",
              "    30% {\n",
              "      border-color: transparent;\n",
              "      border-left-color: var(--fill-color);\n",
              "      border-top-color: var(--fill-color);\n",
              "      border-right-color: var(--fill-color);\n",
              "    }\n",
              "    40% {\n",
              "      border-color: transparent;\n",
              "      border-right-color: var(--fill-color);\n",
              "      border-top-color: var(--fill-color);\n",
              "    }\n",
              "    60% {\n",
              "      border-color: transparent;\n",
              "      border-right-color: var(--fill-color);\n",
              "    }\n",
              "    80% {\n",
              "      border-color: transparent;\n",
              "      border-right-color: var(--fill-color);\n",
              "      border-bottom-color: var(--fill-color);\n",
              "    }\n",
              "    90% {\n",
              "      border-color: transparent;\n",
              "      border-bottom-color: var(--fill-color);\n",
              "    }\n",
              "  }\n",
              "</style>\n",
              "\n",
              "  <script>\n",
              "    async function quickchart(key) {\n",
              "      const quickchartButtonEl =\n",
              "        document.querySelector('#' + key + ' button');\n",
              "      quickchartButtonEl.disabled = true;  // To prevent multiple clicks.\n",
              "      quickchartButtonEl.classList.add('colab-df-spinner');\n",
              "      try {\n",
              "        const charts = await google.colab.kernel.invokeFunction(\n",
              "            'suggestCharts', [key], {});\n",
              "      } catch (error) {\n",
              "        console.error('Error during call to suggestCharts:', error);\n",
              "      }\n",
              "      quickchartButtonEl.classList.remove('colab-df-spinner');\n",
              "      quickchartButtonEl.classList.add('colab-df-quickchart-complete');\n",
              "    }\n",
              "    (() => {\n",
              "      let quickchartButtonEl =\n",
              "        document.querySelector('#df-ef73b513-bfaa-46c1-afa5-231fe3df97a0 button');\n",
              "      quickchartButtonEl.style.display =\n",
              "        google.colab.kernel.accessAllowed ? 'block' : 'none';\n",
              "    })();\n",
              "  </script>\n",
              "</div>\n",
              "    </div>\n",
              "  </div>\n"
            ]
          },
          "metadata": {},
          "execution_count": 63
        }
      ]
    },
    {
      "cell_type": "markdown",
      "source": [
        "#### **Step 1:** Define the null and alternate hypothesis\n",
        "\n",
        "$H_0:$ The average no. of bike rides in different seasons  are equal.\n",
        "\n",
        "$H_a:$ The average no. of bike rides in different seasons are not equal."
      ],
      "metadata": {
        "id": "1lrz_S1V6KWp"
      }
    },
    {
      "cell_type": "markdown",
      "source": [
        "Step 2: Select an appropriate test"
      ],
      "metadata": {
        "id": "Dh4DTzxA6P_C"
      }
    },
    {
      "cell_type": "code",
      "source": [
        "s1 = dfn[dfn['season'] == 1]['count'].sample(2399)\n",
        "s2 = dfn[dfn['season'] == 2]['count'].sample(2399)\n",
        "s3 = dfn[dfn['season'] == 3]['count'].sample(2399)\n",
        "s4 = dfn[dfn['season'] == 3]['count'].sample(2399)"
      ],
      "metadata": {
        "id": "XVScZ4gf0Loi"
      },
      "execution_count": null,
      "outputs": []
    },
    {
      "cell_type": "code",
      "source": [
        "dfn.groupby(['season'])['count'].describe()"
      ],
      "metadata": {
        "colab": {
          "base_uri": "https://localhost:8080/",
          "height": 204
        },
        "id": "31dbs2Hr0LrI",
        "outputId": "fcf7b26c-6387-495a-c05c-0a74dae34ba0"
      },
      "execution_count": null,
      "outputs": [
        {
          "output_type": "execute_result",
          "data": {
            "text/plain": [
              "         count        mean         std  min    25%    50%     75%    max\n",
              "season                                                                  \n",
              "1       2669.0  112.775946  116.902627  1.0  24.00   78.0  161.00  644.0\n",
              "2       2633.0  195.653627  166.170802  1.0  45.00  165.0  299.00  646.0\n",
              "3       2616.0  210.484327  164.055532  1.0  59.75  185.0  323.25  646.0\n",
              "4       2664.0  184.404655  154.563069  1.0  48.75  154.0  276.25  646.0"
            ],
            "text/html": [
              "\n",
              "  <div id=\"df-5061c57b-c025-4a29-8281-87c5a6398681\" class=\"colab-df-container\">\n",
              "    <div>\n",
              "<style scoped>\n",
              "    .dataframe tbody tr th:only-of-type {\n",
              "        vertical-align: middle;\n",
              "    }\n",
              "\n",
              "    .dataframe tbody tr th {\n",
              "        vertical-align: top;\n",
              "    }\n",
              "\n",
              "    .dataframe thead th {\n",
              "        text-align: right;\n",
              "    }\n",
              "</style>\n",
              "<table border=\"1\" class=\"dataframe\">\n",
              "  <thead>\n",
              "    <tr style=\"text-align: right;\">\n",
              "      <th></th>\n",
              "      <th>count</th>\n",
              "      <th>mean</th>\n",
              "      <th>std</th>\n",
              "      <th>min</th>\n",
              "      <th>25%</th>\n",
              "      <th>50%</th>\n",
              "      <th>75%</th>\n",
              "      <th>max</th>\n",
              "    </tr>\n",
              "    <tr>\n",
              "      <th>season</th>\n",
              "      <th></th>\n",
              "      <th></th>\n",
              "      <th></th>\n",
              "      <th></th>\n",
              "      <th></th>\n",
              "      <th></th>\n",
              "      <th></th>\n",
              "      <th></th>\n",
              "    </tr>\n",
              "  </thead>\n",
              "  <tbody>\n",
              "    <tr>\n",
              "      <th>1</th>\n",
              "      <td>2669.0</td>\n",
              "      <td>112.775946</td>\n",
              "      <td>116.902627</td>\n",
              "      <td>1.0</td>\n",
              "      <td>24.00</td>\n",
              "      <td>78.0</td>\n",
              "      <td>161.00</td>\n",
              "      <td>644.0</td>\n",
              "    </tr>\n",
              "    <tr>\n",
              "      <th>2</th>\n",
              "      <td>2633.0</td>\n",
              "      <td>195.653627</td>\n",
              "      <td>166.170802</td>\n",
              "      <td>1.0</td>\n",
              "      <td>45.00</td>\n",
              "      <td>165.0</td>\n",
              "      <td>299.00</td>\n",
              "      <td>646.0</td>\n",
              "    </tr>\n",
              "    <tr>\n",
              "      <th>3</th>\n",
              "      <td>2616.0</td>\n",
              "      <td>210.484327</td>\n",
              "      <td>164.055532</td>\n",
              "      <td>1.0</td>\n",
              "      <td>59.75</td>\n",
              "      <td>185.0</td>\n",
              "      <td>323.25</td>\n",
              "      <td>646.0</td>\n",
              "    </tr>\n",
              "    <tr>\n",
              "      <th>4</th>\n",
              "      <td>2664.0</td>\n",
              "      <td>184.404655</td>\n",
              "      <td>154.563069</td>\n",
              "      <td>1.0</td>\n",
              "      <td>48.75</td>\n",
              "      <td>154.0</td>\n",
              "      <td>276.25</td>\n",
              "      <td>646.0</td>\n",
              "    </tr>\n",
              "  </tbody>\n",
              "</table>\n",
              "</div>\n",
              "    <div class=\"colab-df-buttons\">\n",
              "\n",
              "  <div class=\"colab-df-container\">\n",
              "    <button class=\"colab-df-convert\" onclick=\"convertToInteractive('df-5061c57b-c025-4a29-8281-87c5a6398681')\"\n",
              "            title=\"Convert this dataframe to an interactive table.\"\n",
              "            style=\"display:none;\">\n",
              "\n",
              "  <svg xmlns=\"http://www.w3.org/2000/svg\" height=\"24px\" viewBox=\"0 -960 960 960\">\n",
              "    <path d=\"M120-120v-720h720v720H120Zm60-500h600v-160H180v160Zm220 220h160v-160H400v160Zm0 220h160v-160H400v160ZM180-400h160v-160H180v160Zm440 0h160v-160H620v160ZM180-180h160v-160H180v160Zm440 0h160v-160H620v160Z\"/>\n",
              "  </svg>\n",
              "    </button>\n",
              "\n",
              "  <style>\n",
              "    .colab-df-container {\n",
              "      display:flex;\n",
              "      gap: 12px;\n",
              "    }\n",
              "\n",
              "    .colab-df-convert {\n",
              "      background-color: #E8F0FE;\n",
              "      border: none;\n",
              "      border-radius: 50%;\n",
              "      cursor: pointer;\n",
              "      display: none;\n",
              "      fill: #1967D2;\n",
              "      height: 32px;\n",
              "      padding: 0 0 0 0;\n",
              "      width: 32px;\n",
              "    }\n",
              "\n",
              "    .colab-df-convert:hover {\n",
              "      background-color: #E2EBFA;\n",
              "      box-shadow: 0px 1px 2px rgba(60, 64, 67, 0.3), 0px 1px 3px 1px rgba(60, 64, 67, 0.15);\n",
              "      fill: #174EA6;\n",
              "    }\n",
              "\n",
              "    .colab-df-buttons div {\n",
              "      margin-bottom: 4px;\n",
              "    }\n",
              "\n",
              "    [theme=dark] .colab-df-convert {\n",
              "      background-color: #3B4455;\n",
              "      fill: #D2E3FC;\n",
              "    }\n",
              "\n",
              "    [theme=dark] .colab-df-convert:hover {\n",
              "      background-color: #434B5C;\n",
              "      box-shadow: 0px 1px 3px 1px rgba(0, 0, 0, 0.15);\n",
              "      filter: drop-shadow(0px 1px 2px rgba(0, 0, 0, 0.3));\n",
              "      fill: #FFFFFF;\n",
              "    }\n",
              "  </style>\n",
              "\n",
              "    <script>\n",
              "      const buttonEl =\n",
              "        document.querySelector('#df-5061c57b-c025-4a29-8281-87c5a6398681 button.colab-df-convert');\n",
              "      buttonEl.style.display =\n",
              "        google.colab.kernel.accessAllowed ? 'block' : 'none';\n",
              "\n",
              "      async function convertToInteractive(key) {\n",
              "        const element = document.querySelector('#df-5061c57b-c025-4a29-8281-87c5a6398681');\n",
              "        const dataTable =\n",
              "          await google.colab.kernel.invokeFunction('convertToInteractive',\n",
              "                                                    [key], {});\n",
              "        if (!dataTable) return;\n",
              "\n",
              "        const docLinkHtml = 'Like what you see? Visit the ' +\n",
              "          '<a target=\"_blank\" href=https://colab.research.google.com/notebooks/data_table.ipynb>data table notebook</a>'\n",
              "          + ' to learn more about interactive tables.';\n",
              "        element.innerHTML = '';\n",
              "        dataTable['output_type'] = 'display_data';\n",
              "        await google.colab.output.renderOutput(dataTable, element);\n",
              "        const docLink = document.createElement('div');\n",
              "        docLink.innerHTML = docLinkHtml;\n",
              "        element.appendChild(docLink);\n",
              "      }\n",
              "    </script>\n",
              "  </div>\n",
              "\n",
              "\n",
              "<div id=\"df-40a7dd00-5941-44fa-a4cc-e280a20f9324\">\n",
              "  <button class=\"colab-df-quickchart\" onclick=\"quickchart('df-40a7dd00-5941-44fa-a4cc-e280a20f9324')\"\n",
              "            title=\"Suggest charts\"\n",
              "            style=\"display:none;\">\n",
              "\n",
              "<svg xmlns=\"http://www.w3.org/2000/svg\" height=\"24px\"viewBox=\"0 0 24 24\"\n",
              "     width=\"24px\">\n",
              "    <g>\n",
              "        <path d=\"M19 3H5c-1.1 0-2 .9-2 2v14c0 1.1.9 2 2 2h14c1.1 0 2-.9 2-2V5c0-1.1-.9-2-2-2zM9 17H7v-7h2v7zm4 0h-2V7h2v10zm4 0h-2v-4h2v4z\"/>\n",
              "    </g>\n",
              "</svg>\n",
              "  </button>\n",
              "\n",
              "<style>\n",
              "  .colab-df-quickchart {\n",
              "      --bg-color: #E8F0FE;\n",
              "      --fill-color: #1967D2;\n",
              "      --hover-bg-color: #E2EBFA;\n",
              "      --hover-fill-color: #174EA6;\n",
              "      --disabled-fill-color: #AAA;\n",
              "      --disabled-bg-color: #DDD;\n",
              "  }\n",
              "\n",
              "  [theme=dark] .colab-df-quickchart {\n",
              "      --bg-color: #3B4455;\n",
              "      --fill-color: #D2E3FC;\n",
              "      --hover-bg-color: #434B5C;\n",
              "      --hover-fill-color: #FFFFFF;\n",
              "      --disabled-bg-color: #3B4455;\n",
              "      --disabled-fill-color: #666;\n",
              "  }\n",
              "\n",
              "  .colab-df-quickchart {\n",
              "    background-color: var(--bg-color);\n",
              "    border: none;\n",
              "    border-radius: 50%;\n",
              "    cursor: pointer;\n",
              "    display: none;\n",
              "    fill: var(--fill-color);\n",
              "    height: 32px;\n",
              "    padding: 0;\n",
              "    width: 32px;\n",
              "  }\n",
              "\n",
              "  .colab-df-quickchart:hover {\n",
              "    background-color: var(--hover-bg-color);\n",
              "    box-shadow: 0 1px 2px rgba(60, 64, 67, 0.3), 0 1px 3px 1px rgba(60, 64, 67, 0.15);\n",
              "    fill: var(--button-hover-fill-color);\n",
              "  }\n",
              "\n",
              "  .colab-df-quickchart-complete:disabled,\n",
              "  .colab-df-quickchart-complete:disabled:hover {\n",
              "    background-color: var(--disabled-bg-color);\n",
              "    fill: var(--disabled-fill-color);\n",
              "    box-shadow: none;\n",
              "  }\n",
              "\n",
              "  .colab-df-spinner {\n",
              "    border: 2px solid var(--fill-color);\n",
              "    border-color: transparent;\n",
              "    border-bottom-color: var(--fill-color);\n",
              "    animation:\n",
              "      spin 1s steps(1) infinite;\n",
              "  }\n",
              "\n",
              "  @keyframes spin {\n",
              "    0% {\n",
              "      border-color: transparent;\n",
              "      border-bottom-color: var(--fill-color);\n",
              "      border-left-color: var(--fill-color);\n",
              "    }\n",
              "    20% {\n",
              "      border-color: transparent;\n",
              "      border-left-color: var(--fill-color);\n",
              "      border-top-color: var(--fill-color);\n",
              "    }\n",
              "    30% {\n",
              "      border-color: transparent;\n",
              "      border-left-color: var(--fill-color);\n",
              "      border-top-color: var(--fill-color);\n",
              "      border-right-color: var(--fill-color);\n",
              "    }\n",
              "    40% {\n",
              "      border-color: transparent;\n",
              "      border-right-color: var(--fill-color);\n",
              "      border-top-color: var(--fill-color);\n",
              "    }\n",
              "    60% {\n",
              "      border-color: transparent;\n",
              "      border-right-color: var(--fill-color);\n",
              "    }\n",
              "    80% {\n",
              "      border-color: transparent;\n",
              "      border-right-color: var(--fill-color);\n",
              "      border-bottom-color: var(--fill-color);\n",
              "    }\n",
              "    90% {\n",
              "      border-color: transparent;\n",
              "      border-bottom-color: var(--fill-color);\n",
              "    }\n",
              "  }\n",
              "</style>\n",
              "\n",
              "  <script>\n",
              "    async function quickchart(key) {\n",
              "      const quickchartButtonEl =\n",
              "        document.querySelector('#' + key + ' button');\n",
              "      quickchartButtonEl.disabled = true;  // To prevent multiple clicks.\n",
              "      quickchartButtonEl.classList.add('colab-df-spinner');\n",
              "      try {\n",
              "        const charts = await google.colab.kernel.invokeFunction(\n",
              "            'suggestCharts', [key], {});\n",
              "      } catch (error) {\n",
              "        console.error('Error during call to suggestCharts:', error);\n",
              "      }\n",
              "      quickchartButtonEl.classList.remove('colab-df-spinner');\n",
              "      quickchartButtonEl.classList.add('colab-df-quickchart-complete');\n",
              "    }\n",
              "    (() => {\n",
              "      let quickchartButtonEl =\n",
              "        document.querySelector('#df-40a7dd00-5941-44fa-a4cc-e280a20f9324 button');\n",
              "      quickchartButtonEl.style.display =\n",
              "        google.colab.kernel.accessAllowed ? 'block' : 'none';\n",
              "    })();\n",
              "  </script>\n",
              "</div>\n",
              "    </div>\n",
              "  </div>\n"
            ]
          },
          "metadata": {},
          "execution_count": 65
        }
      ]
    },
    {
      "cell_type": "markdown",
      "source": [
        "We have already performed tests for normality and homogeneity of variance. So we will be directly moving onto the One-way ANOVA test."
      ],
      "metadata": {
        "id": "aq5aTHed6fWH"
      }
    },
    {
      "cell_type": "markdown",
      "source": [
        "Step 3: Decide the significance level\n",
        "\n",
        "The significance level (α) is already set to 5% i.e., 0.05"
      ],
      "metadata": {
        "id": "hB3dWsC56ZV8"
      }
    },
    {
      "cell_type": "markdown",
      "source": [
        "Step 4: Calculate the p-value"
      ],
      "metadata": {
        "id": "x_AebXf66jZP"
      }
    },
    {
      "cell_type": "code",
      "source": [
        "test_stat, p_value = f_oneway(s1, s2, s3, s4)\n",
        "print('The p-value is : ', p_value)\n",
        "\n",
        "result(p_value, alpha)"
      ],
      "metadata": {
        "colab": {
          "base_uri": "https://localhost:8080/"
        },
        "id": "MpVH-rb10Ltp",
        "outputId": "46172709-0c0b-4c9a-c41e-76b9d71e356a"
      },
      "execution_count": null,
      "outputs": [
        {
          "output_type": "stream",
          "name": "stdout",
          "text": [
            "The p-value is :  1.979682110285218e-143\n",
            "As the p-value 1.979682110285218e-143 is less than the level of significance, we reject the null hypothesis.\n"
          ]
        }
      ]
    },
    {
      "cell_type": "markdown",
      "source": [
        "**Observation:** Since the p-value is less than the 5% significance level, we reject the null hypothesis. Hence, we have enough statistical evidence to say that the average no. of bike rides in different seasons are not equal."
      ],
      "metadata": {
        "id": "Ih41GrV26pGK"
      }
    },
    {
      "cell_type": "code",
      "source": [],
      "metadata": {
        "id": "W0BCEQZm0Lv0"
      },
      "execution_count": null,
      "outputs": []
    },
    {
      "cell_type": "code",
      "source": [],
      "metadata": {
        "id": "iUF6dp5i0Lyb"
      },
      "execution_count": null,
      "outputs": []
    },
    {
      "cell_type": "markdown",
      "source": [
        "# Are the weather conditions significantly different during different seasons?"
      ],
      "metadata": {
        "id": "b9wT5c_x6x_t"
      }
    },
    {
      "cell_type": "markdown",
      "source": [
        "#### **Step 1:** Define the null and alternate hypothesis\n",
        "\n",
        "$H_0:$ Weather conditions are independent of the season.\n",
        "\n",
        "$H_a:$ Weather condition depends on the ongoing season."
      ],
      "metadata": {
        "id": "scID5yfY61Ij"
      }
    },
    {
      "cell_type": "markdown",
      "source": [
        "Step 2: Select an appropriate test\n",
        "\n",
        "Although the data values in 'season' and 'weather' columns are numerical, as per our intuition, they still represent different catgories. Hence, we will encode them accordingly before moving onto the tests."
      ],
      "metadata": {
        "id": "CEnB_r1265B3"
      }
    },
    {
      "cell_type": "code",
      "source": [
        "dict1 = {1: 'Sunny',\n",
        "         2: 'Cloudy',\n",
        "         3: 'Rainy'}\n",
        "dfn['weather_enc'] = dfn['weather'].map(dict1)"
      ],
      "metadata": {
        "id": "psAU4_SE7BJQ"
      },
      "execution_count": null,
      "outputs": []
    },
    {
      "cell_type": "code",
      "source": [
        "dict2 = {1: 'Summer',\n",
        "         2: 'Monsoon',\n",
        "         3: 'Winter',\n",
        "         4: 'Autumn'}\n",
        "dfn['season_enc'] = dfn['season'].map(dict2)"
      ],
      "metadata": {
        "id": "vXHOpOUs7BGv"
      },
      "execution_count": null,
      "outputs": []
    },
    {
      "cell_type": "markdown",
      "source": [
        "Here we will be comparing two different categorical variables, 'season' and 'weather'. So will perform a **Chi-square test.**"
      ],
      "metadata": {
        "id": "DSt5dJjx7HR1"
      }
    },
    {
      "cell_type": "code",
      "source": [
        "contigency= pd.crosstab(dfn.season_enc, dfn.weather_enc)\n",
        "contigency"
      ],
      "metadata": {
        "colab": {
          "base_uri": "https://localhost:8080/",
          "height": 204
        },
        "id": "kucrNVDr7BEH",
        "outputId": "98b986c5-3376-47c3-870c-7db83415ad86"
      },
      "execution_count": null,
      "outputs": [
        {
          "output_type": "execute_result",
          "data": {
            "text/plain": [
              "weather_enc  Cloudy  Rainy  Sunny\n",
              "season_enc                       \n",
              "Autumn          787    221   1656\n",
              "Monsoon         690    223   1720\n",
              "Summer          714    211   1744\n",
              "Winter          579    195   1842"
            ],
            "text/html": [
              "\n",
              "  <div id=\"df-a6bec37d-56a9-4188-b612-c0ff597d6978\" class=\"colab-df-container\">\n",
              "    <div>\n",
              "<style scoped>\n",
              "    .dataframe tbody tr th:only-of-type {\n",
              "        vertical-align: middle;\n",
              "    }\n",
              "\n",
              "    .dataframe tbody tr th {\n",
              "        vertical-align: top;\n",
              "    }\n",
              "\n",
              "    .dataframe thead th {\n",
              "        text-align: right;\n",
              "    }\n",
              "</style>\n",
              "<table border=\"1\" class=\"dataframe\">\n",
              "  <thead>\n",
              "    <tr style=\"text-align: right;\">\n",
              "      <th>weather_enc</th>\n",
              "      <th>Cloudy</th>\n",
              "      <th>Rainy</th>\n",
              "      <th>Sunny</th>\n",
              "    </tr>\n",
              "    <tr>\n",
              "      <th>season_enc</th>\n",
              "      <th></th>\n",
              "      <th></th>\n",
              "      <th></th>\n",
              "    </tr>\n",
              "  </thead>\n",
              "  <tbody>\n",
              "    <tr>\n",
              "      <th>Autumn</th>\n",
              "      <td>787</td>\n",
              "      <td>221</td>\n",
              "      <td>1656</td>\n",
              "    </tr>\n",
              "    <tr>\n",
              "      <th>Monsoon</th>\n",
              "      <td>690</td>\n",
              "      <td>223</td>\n",
              "      <td>1720</td>\n",
              "    </tr>\n",
              "    <tr>\n",
              "      <th>Summer</th>\n",
              "      <td>714</td>\n",
              "      <td>211</td>\n",
              "      <td>1744</td>\n",
              "    </tr>\n",
              "    <tr>\n",
              "      <th>Winter</th>\n",
              "      <td>579</td>\n",
              "      <td>195</td>\n",
              "      <td>1842</td>\n",
              "    </tr>\n",
              "  </tbody>\n",
              "</table>\n",
              "</div>\n",
              "    <div class=\"colab-df-buttons\">\n",
              "\n",
              "  <div class=\"colab-df-container\">\n",
              "    <button class=\"colab-df-convert\" onclick=\"convertToInteractive('df-a6bec37d-56a9-4188-b612-c0ff597d6978')\"\n",
              "            title=\"Convert this dataframe to an interactive table.\"\n",
              "            style=\"display:none;\">\n",
              "\n",
              "  <svg xmlns=\"http://www.w3.org/2000/svg\" height=\"24px\" viewBox=\"0 -960 960 960\">\n",
              "    <path d=\"M120-120v-720h720v720H120Zm60-500h600v-160H180v160Zm220 220h160v-160H400v160Zm0 220h160v-160H400v160ZM180-400h160v-160H180v160Zm440 0h160v-160H620v160ZM180-180h160v-160H180v160Zm440 0h160v-160H620v160Z\"/>\n",
              "  </svg>\n",
              "    </button>\n",
              "\n",
              "  <style>\n",
              "    .colab-df-container {\n",
              "      display:flex;\n",
              "      gap: 12px;\n",
              "    }\n",
              "\n",
              "    .colab-df-convert {\n",
              "      background-color: #E8F0FE;\n",
              "      border: none;\n",
              "      border-radius: 50%;\n",
              "      cursor: pointer;\n",
              "      display: none;\n",
              "      fill: #1967D2;\n",
              "      height: 32px;\n",
              "      padding: 0 0 0 0;\n",
              "      width: 32px;\n",
              "    }\n",
              "\n",
              "    .colab-df-convert:hover {\n",
              "      background-color: #E2EBFA;\n",
              "      box-shadow: 0px 1px 2px rgba(60, 64, 67, 0.3), 0px 1px 3px 1px rgba(60, 64, 67, 0.15);\n",
              "      fill: #174EA6;\n",
              "    }\n",
              "\n",
              "    .colab-df-buttons div {\n",
              "      margin-bottom: 4px;\n",
              "    }\n",
              "\n",
              "    [theme=dark] .colab-df-convert {\n",
              "      background-color: #3B4455;\n",
              "      fill: #D2E3FC;\n",
              "    }\n",
              "\n",
              "    [theme=dark] .colab-df-convert:hover {\n",
              "      background-color: #434B5C;\n",
              "      box-shadow: 0px 1px 3px 1px rgba(0, 0, 0, 0.15);\n",
              "      filter: drop-shadow(0px 1px 2px rgba(0, 0, 0, 0.3));\n",
              "      fill: #FFFFFF;\n",
              "    }\n",
              "  </style>\n",
              "\n",
              "    <script>\n",
              "      const buttonEl =\n",
              "        document.querySelector('#df-a6bec37d-56a9-4188-b612-c0ff597d6978 button.colab-df-convert');\n",
              "      buttonEl.style.display =\n",
              "        google.colab.kernel.accessAllowed ? 'block' : 'none';\n",
              "\n",
              "      async function convertToInteractive(key) {\n",
              "        const element = document.querySelector('#df-a6bec37d-56a9-4188-b612-c0ff597d6978');\n",
              "        const dataTable =\n",
              "          await google.colab.kernel.invokeFunction('convertToInteractive',\n",
              "                                                    [key], {});\n",
              "        if (!dataTable) return;\n",
              "\n",
              "        const docLinkHtml = 'Like what you see? Visit the ' +\n",
              "          '<a target=\"_blank\" href=https://colab.research.google.com/notebooks/data_table.ipynb>data table notebook</a>'\n",
              "          + ' to learn more about interactive tables.';\n",
              "        element.innerHTML = '';\n",
              "        dataTable['output_type'] = 'display_data';\n",
              "        await google.colab.output.renderOutput(dataTable, element);\n",
              "        const docLink = document.createElement('div');\n",
              "        docLink.innerHTML = docLinkHtml;\n",
              "        element.appendChild(docLink);\n",
              "      }\n",
              "    </script>\n",
              "  </div>\n",
              "\n",
              "\n",
              "<div id=\"df-e889f354-d477-4e66-aee2-95fd5982f718\">\n",
              "  <button class=\"colab-df-quickchart\" onclick=\"quickchart('df-e889f354-d477-4e66-aee2-95fd5982f718')\"\n",
              "            title=\"Suggest charts\"\n",
              "            style=\"display:none;\">\n",
              "\n",
              "<svg xmlns=\"http://www.w3.org/2000/svg\" height=\"24px\"viewBox=\"0 0 24 24\"\n",
              "     width=\"24px\">\n",
              "    <g>\n",
              "        <path d=\"M19 3H5c-1.1 0-2 .9-2 2v14c0 1.1.9 2 2 2h14c1.1 0 2-.9 2-2V5c0-1.1-.9-2-2-2zM9 17H7v-7h2v7zm4 0h-2V7h2v10zm4 0h-2v-4h2v4z\"/>\n",
              "    </g>\n",
              "</svg>\n",
              "  </button>\n",
              "\n",
              "<style>\n",
              "  .colab-df-quickchart {\n",
              "      --bg-color: #E8F0FE;\n",
              "      --fill-color: #1967D2;\n",
              "      --hover-bg-color: #E2EBFA;\n",
              "      --hover-fill-color: #174EA6;\n",
              "      --disabled-fill-color: #AAA;\n",
              "      --disabled-bg-color: #DDD;\n",
              "  }\n",
              "\n",
              "  [theme=dark] .colab-df-quickchart {\n",
              "      --bg-color: #3B4455;\n",
              "      --fill-color: #D2E3FC;\n",
              "      --hover-bg-color: #434B5C;\n",
              "      --hover-fill-color: #FFFFFF;\n",
              "      --disabled-bg-color: #3B4455;\n",
              "      --disabled-fill-color: #666;\n",
              "  }\n",
              "\n",
              "  .colab-df-quickchart {\n",
              "    background-color: var(--bg-color);\n",
              "    border: none;\n",
              "    border-radius: 50%;\n",
              "    cursor: pointer;\n",
              "    display: none;\n",
              "    fill: var(--fill-color);\n",
              "    height: 32px;\n",
              "    padding: 0;\n",
              "    width: 32px;\n",
              "  }\n",
              "\n",
              "  .colab-df-quickchart:hover {\n",
              "    background-color: var(--hover-bg-color);\n",
              "    box-shadow: 0 1px 2px rgba(60, 64, 67, 0.3), 0 1px 3px 1px rgba(60, 64, 67, 0.15);\n",
              "    fill: var(--button-hover-fill-color);\n",
              "  }\n",
              "\n",
              "  .colab-df-quickchart-complete:disabled,\n",
              "  .colab-df-quickchart-complete:disabled:hover {\n",
              "    background-color: var(--disabled-bg-color);\n",
              "    fill: var(--disabled-fill-color);\n",
              "    box-shadow: none;\n",
              "  }\n",
              "\n",
              "  .colab-df-spinner {\n",
              "    border: 2px solid var(--fill-color);\n",
              "    border-color: transparent;\n",
              "    border-bottom-color: var(--fill-color);\n",
              "    animation:\n",
              "      spin 1s steps(1) infinite;\n",
              "  }\n",
              "\n",
              "  @keyframes spin {\n",
              "    0% {\n",
              "      border-color: transparent;\n",
              "      border-bottom-color: var(--fill-color);\n",
              "      border-left-color: var(--fill-color);\n",
              "    }\n",
              "    20% {\n",
              "      border-color: transparent;\n",
              "      border-left-color: var(--fill-color);\n",
              "      border-top-color: var(--fill-color);\n",
              "    }\n",
              "    30% {\n",
              "      border-color: transparent;\n",
              "      border-left-color: var(--fill-color);\n",
              "      border-top-color: var(--fill-color);\n",
              "      border-right-color: var(--fill-color);\n",
              "    }\n",
              "    40% {\n",
              "      border-color: transparent;\n",
              "      border-right-color: var(--fill-color);\n",
              "      border-top-color: var(--fill-color);\n",
              "    }\n",
              "    60% {\n",
              "      border-color: transparent;\n",
              "      border-right-color: var(--fill-color);\n",
              "    }\n",
              "    80% {\n",
              "      border-color: transparent;\n",
              "      border-right-color: var(--fill-color);\n",
              "      border-bottom-color: var(--fill-color);\n",
              "    }\n",
              "    90% {\n",
              "      border-color: transparent;\n",
              "      border-bottom-color: var(--fill-color);\n",
              "    }\n",
              "  }\n",
              "</style>\n",
              "\n",
              "  <script>\n",
              "    async function quickchart(key) {\n",
              "      const quickchartButtonEl =\n",
              "        document.querySelector('#' + key + ' button');\n",
              "      quickchartButtonEl.disabled = true;  // To prevent multiple clicks.\n",
              "      quickchartButtonEl.classList.add('colab-df-spinner');\n",
              "      try {\n",
              "        const charts = await google.colab.kernel.invokeFunction(\n",
              "            'suggestCharts', [key], {});\n",
              "      } catch (error) {\n",
              "        console.error('Error during call to suggestCharts:', error);\n",
              "      }\n",
              "      quickchartButtonEl.classList.remove('colab-df-spinner');\n",
              "      quickchartButtonEl.classList.add('colab-df-quickchart-complete');\n",
              "    }\n",
              "    (() => {\n",
              "      let quickchartButtonEl =\n",
              "        document.querySelector('#df-e889f354-d477-4e66-aee2-95fd5982f718 button');\n",
              "      quickchartButtonEl.style.display =\n",
              "        google.colab.kernel.accessAllowed ? 'block' : 'none';\n",
              "    })();\n",
              "  </script>\n",
              "</div>\n",
              "    </div>\n",
              "  </div>\n"
            ]
          },
          "metadata": {},
          "execution_count": 69
        }
      ]
    },
    {
      "cell_type": "code",
      "source": [
        "contigency.plot(kind='bar')"
      ],
      "metadata": {
        "colab": {
          "base_uri": "https://localhost:8080/",
          "height": 528
        },
        "id": "agRxT2sl7BBP",
        "outputId": "88eb1931-6b5a-4106-f02f-971ab75e690f"
      },
      "execution_count": null,
      "outputs": [
        {
          "output_type": "execute_result",
          "data": {
            "text/plain": [
              "<Axes: xlabel='season_enc'>"
            ]
          },
          "metadata": {},
          "execution_count": 70
        },
        {
          "output_type": "display_data",
          "data": {
            "text/plain": [
              "<Figure size 640x480 with 1 Axes>"
            ],
            "image/png": "[encoded data removed]"
          },
          "metadata": {}
        }
      ]
    },
    {
      "cell_type": "markdown",
      "source": [
        "Step 3: Decide the significance level\n",
        "\n",
        "The significance level (α) is already set to 5% i.e., 0.05"
      ],
      "metadata": {
        "id": "pNY_2mCU7csd"
      }
    },
    {
      "cell_type": "code",
      "source": [
        "chi2, pval, dof, exp_freq = chi2_contingency(contigency, correction=False)\n",
        "print('Chi-square Statistic: {} \\n P-value: {} \\n Degree of Freedom: {} \\n Expected Frequencies: {}'.format(chi2, pval, dof, exp_freq))"
      ],
      "metadata": {
        "colab": {
          "base_uri": "https://localhost:8080/"
        },
        "id": "FC5bhZLS7A-f",
        "outputId": "8442d281-68e1-46ea-eb5c-e591715a4d17"
      },
      "execution_count": null,
      "outputs": [
        {
          "output_type": "stream",
          "name": "stdout",
          "text": [
            "Chi-square Statistic: 44.1979555965044 \n",
            " P-value: 6.753122128664597e-08 \n",
            " Degree of Freedom: 6 \n",
            " Expected Frequencies: [[ 697.34265734  213.98601399 1752.67132867]\n",
            " [ 689.22793423  211.4959365  1732.27612928]\n",
            " [ 698.65148365  214.38763939 1755.96087696]\n",
            " [ 684.77792478  210.13041013 1721.09166509]]\n"
          ]
        }
      ]
    },
    {
      "cell_type": "code",
      "source": [
        "result(pval, alpha)"
      ],
      "metadata": {
        "colab": {
          "base_uri": "https://localhost:8080/"
        },
        "id": "cc9PZxdL7pzC",
        "outputId": "8fc48e0d-62d4-45f3-d591-c3c3f8fac150"
      },
      "execution_count": null,
      "outputs": [
        {
          "output_type": "stream",
          "name": "stdout",
          "text": [
            "As the p-value 6.753122128664597e-08 is less than the level of significance, we reject the null hypothesis.\n"
          ]
        }
      ]
    },
    {
      "cell_type": "markdown",
      "source": [
        "**Observation:** Since the p-value is less than the 5% significance level, we reject the null hypothesis. Hence, we have enough statistical evidence to say that the weather conditions are dependent on the ongoing season."
      ],
      "metadata": {
        "id": "EB343ee57ASQ"
      }
    },
    {
      "cell_type": "code",
      "source": [],
      "metadata": {
        "id": "jyUsVq4S_qiP"
      },
      "execution_count": null,
      "outputs": []
    },
    {
      "cell_type": "markdown",
      "source": [
        "# Insights from hypothesis testing -\n",
        "\n",
        "The no. of bikes rented on weekdays is comparatively higher than on weekends.\n",
        "\n",
        "The no. of bikes rented on regular days is comparatively higher than on holidays.\n",
        "\n",
        "The demand of bicycles on rent differs under different weather conditions.\n",
        "\n",
        "The demand of bicycles on rent is different during different seasons.\n",
        "\n",
        "The weather conditions are surely dependent upon the ongoing season.\n",
        "\n",
        "\n",
        "\n",
        "**recommendations** -\n",
        "\n",
        "The demand of bikes on rent are usually higher during Weekdays.\n",
        "\n",
        "The demand of bikes on rent are usually higher during Regular days.\n",
        "\n",
        "The chances of person renting a bike are usually higher during Season 3.\n",
        "\n",
        "The chances of person renting a bike are usually higher during Weather condition 1.\n",
        "\n",
        "We recommend the company to maintain the bike stocks accordingly."
      ],
      "metadata": {
        "id": "d9uFpTuz8QiG"
      }
    }
  ]
}